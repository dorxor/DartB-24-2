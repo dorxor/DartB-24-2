{
  "nbformat": 4,
  "nbformat_minor": 0,
  "metadata": {
    "colab": {
      "provenance": [],
      "toc_visible": true
    },
    "kernelspec": {
      "name": "python3",
      "display_name": "Python 3"
    },
    "language_info": {
      "name": "python"
    }
  },
  "cells": [
    {
      "cell_type": "markdown",
      "source": [
        "# Chapter 05) 트리 알고리즘"
      ],
      "metadata": {
        "id": "qLMdR6gnYee7"
      }
    },
    {
      "cell_type": "markdown",
      "source": [
        "## 05-2. 교차 검증과 그리드 서치"
      ],
      "metadata": {
        "id": "L-BEKJ6YYjVZ"
      }
    },
    {
      "cell_type": "markdown",
      "source": [
        "이전까지는 문제를 간단히 하려고 테스트 세트를 사용했습니다. 하지만 테스트 세트로 일반화 성능을 올바르게 예측하려면 가능한 한 테스트 세트를 사용하지 말아야 합니다. 모델을 만들고 나서 마지막에 딱 한 번만 사용하는 것이 좋습니다. 그렇다면 max_depth 매개변수를 사용한 하이퍼파라미터 튜닝을 어떻게 할 수 있을까요? 결정 트리는 테스트해 볼 매개변수가 많습니다.\n",
        "- max_depth: 트리의 최대 깊이\n",
        "- min_samples_split: 내부 노드를 분할하는 데 필요한 최소 샘플 수\n",
        "- min_samples_leaf: 리프 노드(말단 노드)에 필요한 최소 샘플 수\n",
        "- max_features: 분할에 사용할 최대 특징 수\n",
        "- criterion: 분할 품질을 평가하는 기준\n",
        "- splitter: 각 노드에서 분할할 때의 전략\n",
        "- max_leaf_nodes: 리프 노드의 최대 개수\n",
        "- min_impurity_decrease: 불순도 감소의 최소 기준\n",
        "\n",
        "테스트 세트를 가능한 한 사용하지 않고, 모델을 훈련하고 평가하기 위해 **교차 검증(cross-validation)**을 사용하면 됩니다. 특히 결정 트리와 같은 모델에서 하이퍼파라미터를 튜닝할 때 교차 검증을 통해 다양한 하이퍼파라미터 조합을 테스트하고 최적의 값을 찾을 수 있습니다. 이를 위해 GridSearchCV와 같은 도구를 활용할 수 있습니다."
      ],
      "metadata": {
        "id": "2_eSnWPH0vEJ"
      }
    },
    {
      "cell_type": "markdown",
      "source": [
        "### 검증 세트\n",
        "하이퍼파라미터 튜닝을 위해 모델을 평가할 때, 테스트 세트를 사용하지 않기 위해 훈련 세트에서 다시 떼어 낸 데이터 세트\n",
        "\n",
        "훈련 세트에서 모델을 훈련하고 검증 세트로 모델을 평가합니다. 이런 식으로 테스트하고 싶은 매개변수를 바꿔가며 가장 좋은 모델을 다시 훈련합니다. 그리고 마지막에 테스트 세트에서 최종 점수를 평가합니다. 아마도 실전에 투입했을 때 테스트 세트의 점수와 비슷한 성능을 기대할 수 있을 것입니다."
      ],
      "metadata": {
        "id": "kG65r8Bz6a2k"
      }
    },
    {
      "cell_type": "markdown",
      "source": [
        "- 테스트 세트와 검증 세트에 얼마나 많은 샘플을 덜어 놔야 하나요?\\\n",
        "보통 20~30%를 테스트 세트와 검증 세트로 떼어 놓습니다. 하지만 문제에 따라 다릅니다. 훈련 데이터가 아주 많다면 단 몇 %만 떼어 놓아도 전체 데이터를 대표하는 데 문제가 없습니다."
      ],
      "metadata": {
        "id": "G9O7mY2F6p08"
      }
    },
    {
      "cell_type": "code",
      "execution_count": 1,
      "metadata": {
        "id": "MibMSwXmYTkF"
      },
      "outputs": [],
      "source": [
        "import pandas as pd\n",
        "wine = pd.read_csv('https://bit.ly/wine_csv_data')"
      ]
    },
    {
      "cell_type": "code",
      "source": [
        "data = wine[['alcohol', 'sugar', 'pH']].to_numpy()\n",
        "target = wine['class'].to_numpy()"
      ],
      "metadata": {
        "id": "XVNE5ViX7UZG"
      },
      "execution_count": 2,
      "outputs": []
    },
    {
      "cell_type": "code",
      "source": [
        "from sklearn.model_selection import train_test_split\n",
        "train_input, test_input, train_target, test_target = train_test_split(data, target, test_size=0.2, random_state=42)"
      ],
      "metadata": {
        "id": "EAHhcUog7hsc"
      },
      "execution_count": 3,
      "outputs": []
    },
    {
      "cell_type": "code",
      "source": [
        "sub_input, val_input, sub_target, val_target = train_test_split(train_input, train_target, test_size=0.2, random_state=42)"
      ],
      "metadata": {
        "id": "cuWREHm28X2A"
      },
      "execution_count": 4,
      "outputs": []
    },
    {
      "cell_type": "code",
      "source": [
        "print(train_input.shape, sub_input.shape, val_input.shape)"
      ],
      "metadata": {
        "colab": {
          "base_uri": "https://localhost:8080/"
        },
        "id": "DEVKxEhl8gcA",
        "outputId": "af355873-eb6c-4301-f6f9-a05573676199"
      },
      "execution_count": 5,
      "outputs": [
        {
          "output_type": "stream",
          "name": "stdout",
          "text": [
            "(5197, 3) (4157, 3) (1040, 3)\n"
          ]
        }
      ]
    },
    {
      "cell_type": "code",
      "source": [
        "# sub_input, val_input, sub_target, val_target을 사용한 모델\n",
        "from sklearn.tree import DecisionTreeClassifier\n",
        "dt = DecisionTreeClassifier(random_state=42)\n",
        "dt.fit(sub_input, sub_target)\n",
        "print(dt.score(sub_input, sub_target))\n",
        "print(dt.score(val_input, val_target)) # 과대적합되어 있음 > 매개변수 조정 필요"
      ],
      "metadata": {
        "colab": {
          "base_uri": "https://localhost:8080/"
        },
        "id": "DyWnj5f08wOx",
        "outputId": "262b88df-b232-4200-c3c5-486312198b27"
      },
      "execution_count": 6,
      "outputs": [
        {
          "output_type": "stream",
          "name": "stdout",
          "text": [
            "0.9971133028626413\n",
            "0.864423076923077\n"
          ]
        }
      ]
    },
    {
      "cell_type": "markdown",
      "source": [
        "### 교차 검증\n",
        "훈련 세트를 여러 폴드로 나눈 다음 한 폴드가 검증 세트의 역할을 하고 나머지 폴드에서는 모델을 훈련합니다. 교차 검증은 모든 폴드에 대해 검증 점수를 얻어 평균하는 방법입니다."
      ],
      "metadata": {
        "id": "-VqudC6k9RLV"
      }
    },
    {
      "cell_type": "markdown",
      "source": [
        "- 3-폴드 교차 검증이 뭔가요?\\\n",
        "훈련 세트를 세 부분으로 나눠서 교차 검증을 수행하는 것을 3-폴드 교차 검증이라고 합니다. 통칭 k-폴드 교차 검증이라고 하며, 훈련 세트를 몇 부분으로 나누냐에 따라 다르게 부릅니다. k-겹 교차 검증이라고도 부릅니다."
      ],
      "metadata": {
        "id": "vr7f0txpFTjo"
      }
    },
    {
      "cell_type": "markdown",
      "source": [
        "검증 세트가 줄어들지만 각 폴드에서 계산한 검증 점수를 평균하기 때문에 안정된 점수로 생각할 수 있습니다. 사이킷런에는 cross_validate()라는 교차 검증 함수가 있습니다. 사용법은 간단한데, 먼저 평가할 모델 객체를 첫번째 매개변수로 전달합니다. 그다음 앞에서처럼 직접 검증 세트를 떼어 내지 않고 훈련 세트 전체를 cross_validate() 함수에 전달합니다.\n",
        "\n",
        "사이킷런에는 cross_validate() 함수의 전신인 cross_val_score() 함수도 있습니다. 이 함수는 cross_validate() 함수의 결과 중에서 test_score 값만 반환합니다."
      ],
      "metadata": {
        "id": "4lZzF9gCHQgt"
      }
    },
    {
      "cell_type": "code",
      "source": [
        "from sklearn.model_selection import cross_validate\n",
        "scores = cross_validate(dt, train_input, train_target)\n",
        "print(scores)"
      ],
      "metadata": {
        "colab": {
          "base_uri": "https://localhost:8080/"
        },
        "id": "h_wm_HlG-SdW",
        "outputId": "02a9150b-9878-420f-bc8e-d896a2e453f9"
      },
      "execution_count": 7,
      "outputs": [
        {
          "output_type": "stream",
          "name": "stdout",
          "text": [
            "{'fit_time': array([0.04437971, 0.02156353, 0.02643394, 0.02098322, 0.05561447]), 'score_time': array([0.00196362, 0.00893021, 0.0062964 , 0.00384736, 0.00199151]), 'test_score': array([0.86923077, 0.84615385, 0.87680462, 0.84889317, 0.83541867])}\n"
          ]
        }
      ]
    },
    {
      "cell_type": "markdown",
      "source": [
        "훈련과 검증 시간은 코랩에서 리소스를 사용하는 상황에 따라 달라질 수 있으므로 fit_time과 score_time 세트는 출력 결과가 책과 다를 수 있습니다."
      ],
      "metadata": {
        "id": "ikDFGfYGJZZ0"
      }
    },
    {
      "cell_type": "code",
      "source": [
        "import numpy as np\n",
        "print(np.mean(scores['test_score']))"
      ],
      "metadata": {
        "colab": {
          "base_uri": "https://localhost:8080/"
        },
        "id": "TfpxyA4xJo_X",
        "outputId": "54606197-12eb-49ba-8f02-ba4800c2325d"
      },
      "execution_count": 8,
      "outputs": [
        {
          "output_type": "stream",
          "name": "stdout",
          "text": [
            "0.855300214703487\n"
          ]
        }
      ]
    },
    {
      "cell_type": "markdown",
      "source": [
        "cross_validate()는 훈련 세트를 섞어 폴드를 나누지 않습니다. 앞서 우리는 train_test_split() 함수로 전체 데이터를 섞은 후 훈련 세트를 준비했기 때문에 따로 섞을 필요가 없습니다. 하지만 만약 교차 검증을 할 때 훈련 세트를 섞으려면 분할기를 지정해야 합니다.\n",
        "\n",
        "사이킷런의 분할기는 교차 검증에서 폴드를 어떻게 나눌지 결정해 줍니다. cross_validate() 함수는 기본적으로 회귀 모델일 경우 KFold 분할기를 사용하고 분류 모델일 경우 타깃 클래스를 골고루 나누기 위해 StratifiedKFold를 사용합니다. 즉 앞서 수행한 교차 검증은 다음 코드와 동일합니다."
      ],
      "metadata": {
        "id": "4eZvr8EbLgRR"
      }
    },
    {
      "cell_type": "code",
      "source": [
        "from sklearn.model_selection import StratifiedKFold\n",
        "scores = cross_validate(dt, train_input, train_target, cv=StratifiedKFold())\n",
        "print(np.mean(scores['test_score']))"
      ],
      "metadata": {
        "colab": {
          "base_uri": "https://localhost:8080/"
        },
        "id": "brUD7J08J66G",
        "outputId": "23e63d79-52a6-45ee-f5d8-46363b7d9948"
      },
      "execution_count": 9,
      "outputs": [
        {
          "output_type": "stream",
          "name": "stdout",
          "text": [
            "0.855300214703487\n"
          ]
        }
      ]
    },
    {
      "cell_type": "code",
      "source": [
        "# 훈련 세트를 섞은 후 10-폴드 교차 검증 수행\n",
        "splitter = StratifiedKFold(n_splits=10, shuffle=True, random_state=42)\n",
        "scores = cross_validate(dt, train_input, train_target, cv=splitter)\n",
        "print(np.mean(scores['test_score']))"
      ],
      "metadata": {
        "colab": {
          "base_uri": "https://localhost:8080/"
        },
        "id": "hqrn2pmkMu7H",
        "outputId": "cb1fa4a1-8a5e-452f-f828-1acd5663dc0f"
      },
      "execution_count": 10,
      "outputs": [
        {
          "output_type": "stream",
          "name": "stdout",
          "text": [
            "0.8574181117533719\n"
          ]
        }
      ]
    },
    {
      "cell_type": "markdown",
      "source": [
        "### 하이퍼파라미터 튜닝\n",
        "\n",
        "과정; 먼저 라이브러리가 제공하는 기본값을 그대로 사용해 모델을 훈련합니다. 그다음 검증 세트의 점수나 교차 검증을 통해서 매개변수를 조금씩 바꿔 봅니다. 모델마다 적게는 1 ~ 2개에서, 많게는 5 ~ 6개의 매개변수를 제공합니다. 이 매개변수를 바꿔가면서 모델을 훈련하고 교차 검증을 수행해야 하죠.\n",
        "\n",
        "사람의 개입 없이 하이퍼파라미터 튜닝을 자동으로 수행하는 기술을 'AutoML'이라고 부릅니다.\n",
        "\n",
        "**중요한 점!** 가령 결정 트리 모델에서 최적의 max_depth 값을 찾았다고 가정해 봅시다. 그다음 max_depth를 최적의 값으로 고정하고 min_samples_split을 바꿔가며 최적의 값을 찾습니다. 이렇게 한 매개변수의 최적값을 찾고 다른 매개변수의 최적값을 찾아도 될까요? 아니요, 틀렸습니다. 불행하게도 max_depth의 최적값은 min_samples_split 매개변수의 값이 바뀌면 함께 달라집니다. 즉 이 두 매개변수를 동시에 바꿔가며 최적의 값을 찾아야 하는거죠!\n",
        "\n",
        "게다가 매개변수가 많아지면 문제는 더 복잡해집니다. 파이썬의 for 반복문으로 이런 과정을 직접 구현할 수도 있지만, 이미 만들어진 도구를 사용하는 게 편리하겠죠? 사이킷런에서 제공하는 **그리드 서치**를 사용합시다.\n",
        "\n",
        "그리드 서치 : 하이퍼파라미터 탐색을 자동화해 주는 도구\\\n",
        "탐색할 매개변수를 나열하면 교차 검증을 수행하여 가장 좋은 검증 점수의 매개변수 조합을 선택합니다. 마지막으로 이 매개변수 조합으로 최종 모델을 훈련합니다.\n",
        "\n",
        "**GridSearchCV의 장점과 활용**\\\n",
        "모든 하이퍼파라미터 조합을 자동으로 테스트하여 최적값을 찾아줍니다.\n",
        "여러 하이퍼파라미터를 동시에 조합하여 탐색하기 때문에 각 하이퍼파라미터 간의 상호작용도 고려할 수 있습니다.\n",
        "자동화된 하이퍼파라미터 탐색을 통해 최적의 모델을 손쉽게 구축할 수 있습니다."
      ],
      "metadata": {
        "id": "FU34a6mPNDWK"
      }
    },
    {
      "cell_type": "code",
      "source": [
        "from sklearn.model_selection import GridSearchCV\n",
        "params = {'min_impurity_decrease' : [0.0001, 0.0002, 0.0003, 0.0004, 0.0005]}"
      ],
      "metadata": {
        "id": "RnA5jLxuSqIn"
      },
      "execution_count": 11,
      "outputs": []
    },
    {
      "cell_type": "code",
      "source": [
        "gs = GridSearchCV(DecisionTreeClassifier(random_state=42), params, n_jobs=-1)\n",
        "# GridSearchCV의 cv 매개변수 기본값은 5입니다. 따라서 min_impurity_decrease 값마다 5-폴드 교차 검증을 수행합니다. 결국 5*5=25개의 모델을 훈련합니다."
      ],
      "metadata": {
        "id": "PxsvjiguTHMX"
      },
      "execution_count": 12,
      "outputs": []
    },
    {
      "cell_type": "code",
      "source": [
        "gs.fit(train_input, train_target)"
      ],
      "metadata": {
        "colab": {
          "base_uri": "https://localhost:8080/",
          "height": 134
        },
        "id": "_ct_n_yST2g8",
        "outputId": "bcc3acf6-cdda-488e-e089-e84dddabdd3f"
      },
      "execution_count": 13,
      "outputs": [
        {
          "output_type": "execute_result",
          "data": {
            "text/plain": [
              "GridSearchCV(estimator=DecisionTreeClassifier(random_state=42), n_jobs=-1,\n",
              "             param_grid={'min_impurity_decrease': [0.0001, 0.0002, 0.0003,\n",
              "                                                   0.0004, 0.0005]})"
            ],
            "text/html": [
              "<style>#sk-container-id-1 {\n",
              "  /* Definition of color scheme common for light and dark mode */\n",
              "  --sklearn-color-text: black;\n",
              "  --sklearn-color-line: gray;\n",
              "  /* Definition of color scheme for unfitted estimators */\n",
              "  --sklearn-color-unfitted-level-0: #fff5e6;\n",
              "  --sklearn-color-unfitted-level-1: #f6e4d2;\n",
              "  --sklearn-color-unfitted-level-2: #ffe0b3;\n",
              "  --sklearn-color-unfitted-level-3: chocolate;\n",
              "  /* Definition of color scheme for fitted estimators */\n",
              "  --sklearn-color-fitted-level-0: #f0f8ff;\n",
              "  --sklearn-color-fitted-level-1: #d4ebff;\n",
              "  --sklearn-color-fitted-level-2: #b3dbfd;\n",
              "  --sklearn-color-fitted-level-3: cornflowerblue;\n",
              "\n",
              "  /* Specific color for light theme */\n",
              "  --sklearn-color-text-on-default-background: var(--sg-text-color, var(--theme-code-foreground, var(--jp-content-font-color1, black)));\n",
              "  --sklearn-color-background: var(--sg-background-color, var(--theme-background, var(--jp-layout-color0, white)));\n",
              "  --sklearn-color-border-box: var(--sg-text-color, var(--theme-code-foreground, var(--jp-content-font-color1, black)));\n",
              "  --sklearn-color-icon: #696969;\n",
              "\n",
              "  @media (prefers-color-scheme: dark) {\n",
              "    /* Redefinition of color scheme for dark theme */\n",
              "    --sklearn-color-text-on-default-background: var(--sg-text-color, var(--theme-code-foreground, var(--jp-content-font-color1, white)));\n",
              "    --sklearn-color-background: var(--sg-background-color, var(--theme-background, var(--jp-layout-color0, #111)));\n",
              "    --sklearn-color-border-box: var(--sg-text-color, var(--theme-code-foreground, var(--jp-content-font-color1, white)));\n",
              "    --sklearn-color-icon: #878787;\n",
              "  }\n",
              "}\n",
              "\n",
              "#sk-container-id-1 {\n",
              "  color: var(--sklearn-color-text);\n",
              "}\n",
              "\n",
              "#sk-container-id-1 pre {\n",
              "  padding: 0;\n",
              "}\n",
              "\n",
              "#sk-container-id-1 input.sk-hidden--visually {\n",
              "  border: 0;\n",
              "  clip: rect(1px 1px 1px 1px);\n",
              "  clip: rect(1px, 1px, 1px, 1px);\n",
              "  height: 1px;\n",
              "  margin: -1px;\n",
              "  overflow: hidden;\n",
              "  padding: 0;\n",
              "  position: absolute;\n",
              "  width: 1px;\n",
              "}\n",
              "\n",
              "#sk-container-id-1 div.sk-dashed-wrapped {\n",
              "  border: 1px dashed var(--sklearn-color-line);\n",
              "  margin: 0 0.4em 0.5em 0.4em;\n",
              "  box-sizing: border-box;\n",
              "  padding-bottom: 0.4em;\n",
              "  background-color: var(--sklearn-color-background);\n",
              "}\n",
              "\n",
              "#sk-container-id-1 div.sk-container {\n",
              "  /* jupyter's `normalize.less` sets `[hidden] { display: none; }`\n",
              "     but bootstrap.min.css set `[hidden] { display: none !important; }`\n",
              "     so we also need the `!important` here to be able to override the\n",
              "     default hidden behavior on the sphinx rendered scikit-learn.org.\n",
              "     See: https://github.com/scikit-learn/scikit-learn/issues/21755 */\n",
              "  display: inline-block !important;\n",
              "  position: relative;\n",
              "}\n",
              "\n",
              "#sk-container-id-1 div.sk-text-repr-fallback {\n",
              "  display: none;\n",
              "}\n",
              "\n",
              "div.sk-parallel-item,\n",
              "div.sk-serial,\n",
              "div.sk-item {\n",
              "  /* draw centered vertical line to link estimators */\n",
              "  background-image: linear-gradient(var(--sklearn-color-text-on-default-background), var(--sklearn-color-text-on-default-background));\n",
              "  background-size: 2px 100%;\n",
              "  background-repeat: no-repeat;\n",
              "  background-position: center center;\n",
              "}\n",
              "\n",
              "/* Parallel-specific style estimator block */\n",
              "\n",
              "#sk-container-id-1 div.sk-parallel-item::after {\n",
              "  content: \"\";\n",
              "  width: 100%;\n",
              "  border-bottom: 2px solid var(--sklearn-color-text-on-default-background);\n",
              "  flex-grow: 1;\n",
              "}\n",
              "\n",
              "#sk-container-id-1 div.sk-parallel {\n",
              "  display: flex;\n",
              "  align-items: stretch;\n",
              "  justify-content: center;\n",
              "  background-color: var(--sklearn-color-background);\n",
              "  position: relative;\n",
              "}\n",
              "\n",
              "#sk-container-id-1 div.sk-parallel-item {\n",
              "  display: flex;\n",
              "  flex-direction: column;\n",
              "}\n",
              "\n",
              "#sk-container-id-1 div.sk-parallel-item:first-child::after {\n",
              "  align-self: flex-end;\n",
              "  width: 50%;\n",
              "}\n",
              "\n",
              "#sk-container-id-1 div.sk-parallel-item:last-child::after {\n",
              "  align-self: flex-start;\n",
              "  width: 50%;\n",
              "}\n",
              "\n",
              "#sk-container-id-1 div.sk-parallel-item:only-child::after {\n",
              "  width: 0;\n",
              "}\n",
              "\n",
              "/* Serial-specific style estimator block */\n",
              "\n",
              "#sk-container-id-1 div.sk-serial {\n",
              "  display: flex;\n",
              "  flex-direction: column;\n",
              "  align-items: center;\n",
              "  background-color: var(--sklearn-color-background);\n",
              "  padding-right: 1em;\n",
              "  padding-left: 1em;\n",
              "}\n",
              "\n",
              "\n",
              "/* Toggleable style: style used for estimator/Pipeline/ColumnTransformer box that is\n",
              "clickable and can be expanded/collapsed.\n",
              "- Pipeline and ColumnTransformer use this feature and define the default style\n",
              "- Estimators will overwrite some part of the style using the `sk-estimator` class\n",
              "*/\n",
              "\n",
              "/* Pipeline and ColumnTransformer style (default) */\n",
              "\n",
              "#sk-container-id-1 div.sk-toggleable {\n",
              "  /* Default theme specific background. It is overwritten whether we have a\n",
              "  specific estimator or a Pipeline/ColumnTransformer */\n",
              "  background-color: var(--sklearn-color-background);\n",
              "}\n",
              "\n",
              "/* Toggleable label */\n",
              "#sk-container-id-1 label.sk-toggleable__label {\n",
              "  cursor: pointer;\n",
              "  display: block;\n",
              "  width: 100%;\n",
              "  margin-bottom: 0;\n",
              "  padding: 0.5em;\n",
              "  box-sizing: border-box;\n",
              "  text-align: center;\n",
              "}\n",
              "\n",
              "#sk-container-id-1 label.sk-toggleable__label-arrow:before {\n",
              "  /* Arrow on the left of the label */\n",
              "  content: \"▸\";\n",
              "  float: left;\n",
              "  margin-right: 0.25em;\n",
              "  color: var(--sklearn-color-icon);\n",
              "}\n",
              "\n",
              "#sk-container-id-1 label.sk-toggleable__label-arrow:hover:before {\n",
              "  color: var(--sklearn-color-text);\n",
              "}\n",
              "\n",
              "/* Toggleable content - dropdown */\n",
              "\n",
              "#sk-container-id-1 div.sk-toggleable__content {\n",
              "  max-height: 0;\n",
              "  max-width: 0;\n",
              "  overflow: hidden;\n",
              "  text-align: left;\n",
              "  /* unfitted */\n",
              "  background-color: var(--sklearn-color-unfitted-level-0);\n",
              "}\n",
              "\n",
              "#sk-container-id-1 div.sk-toggleable__content.fitted {\n",
              "  /* fitted */\n",
              "  background-color: var(--sklearn-color-fitted-level-0);\n",
              "}\n",
              "\n",
              "#sk-container-id-1 div.sk-toggleable__content pre {\n",
              "  margin: 0.2em;\n",
              "  border-radius: 0.25em;\n",
              "  color: var(--sklearn-color-text);\n",
              "  /* unfitted */\n",
              "  background-color: var(--sklearn-color-unfitted-level-0);\n",
              "}\n",
              "\n",
              "#sk-container-id-1 div.sk-toggleable__content.fitted pre {\n",
              "  /* unfitted */\n",
              "  background-color: var(--sklearn-color-fitted-level-0);\n",
              "}\n",
              "\n",
              "#sk-container-id-1 input.sk-toggleable__control:checked~div.sk-toggleable__content {\n",
              "  /* Expand drop-down */\n",
              "  max-height: 200px;\n",
              "  max-width: 100%;\n",
              "  overflow: auto;\n",
              "}\n",
              "\n",
              "#sk-container-id-1 input.sk-toggleable__control:checked~label.sk-toggleable__label-arrow:before {\n",
              "  content: \"▾\";\n",
              "}\n",
              "\n",
              "/* Pipeline/ColumnTransformer-specific style */\n",
              "\n",
              "#sk-container-id-1 div.sk-label input.sk-toggleable__control:checked~label.sk-toggleable__label {\n",
              "  color: var(--sklearn-color-text);\n",
              "  background-color: var(--sklearn-color-unfitted-level-2);\n",
              "}\n",
              "\n",
              "#sk-container-id-1 div.sk-label.fitted input.sk-toggleable__control:checked~label.sk-toggleable__label {\n",
              "  background-color: var(--sklearn-color-fitted-level-2);\n",
              "}\n",
              "\n",
              "/* Estimator-specific style */\n",
              "\n",
              "/* Colorize estimator box */\n",
              "#sk-container-id-1 div.sk-estimator input.sk-toggleable__control:checked~label.sk-toggleable__label {\n",
              "  /* unfitted */\n",
              "  background-color: var(--sklearn-color-unfitted-level-2);\n",
              "}\n",
              "\n",
              "#sk-container-id-1 div.sk-estimator.fitted input.sk-toggleable__control:checked~label.sk-toggleable__label {\n",
              "  /* fitted */\n",
              "  background-color: var(--sklearn-color-fitted-level-2);\n",
              "}\n",
              "\n",
              "#sk-container-id-1 div.sk-label label.sk-toggleable__label,\n",
              "#sk-container-id-1 div.sk-label label {\n",
              "  /* The background is the default theme color */\n",
              "  color: var(--sklearn-color-text-on-default-background);\n",
              "}\n",
              "\n",
              "/* On hover, darken the color of the background */\n",
              "#sk-container-id-1 div.sk-label:hover label.sk-toggleable__label {\n",
              "  color: var(--sklearn-color-text);\n",
              "  background-color: var(--sklearn-color-unfitted-level-2);\n",
              "}\n",
              "\n",
              "/* Label box, darken color on hover, fitted */\n",
              "#sk-container-id-1 div.sk-label.fitted:hover label.sk-toggleable__label.fitted {\n",
              "  color: var(--sklearn-color-text);\n",
              "  background-color: var(--sklearn-color-fitted-level-2);\n",
              "}\n",
              "\n",
              "/* Estimator label */\n",
              "\n",
              "#sk-container-id-1 div.sk-label label {\n",
              "  font-family: monospace;\n",
              "  font-weight: bold;\n",
              "  display: inline-block;\n",
              "  line-height: 1.2em;\n",
              "}\n",
              "\n",
              "#sk-container-id-1 div.sk-label-container {\n",
              "  text-align: center;\n",
              "}\n",
              "\n",
              "/* Estimator-specific */\n",
              "#sk-container-id-1 div.sk-estimator {\n",
              "  font-family: monospace;\n",
              "  border: 1px dotted var(--sklearn-color-border-box);\n",
              "  border-radius: 0.25em;\n",
              "  box-sizing: border-box;\n",
              "  margin-bottom: 0.5em;\n",
              "  /* unfitted */\n",
              "  background-color: var(--sklearn-color-unfitted-level-0);\n",
              "}\n",
              "\n",
              "#sk-container-id-1 div.sk-estimator.fitted {\n",
              "  /* fitted */\n",
              "  background-color: var(--sklearn-color-fitted-level-0);\n",
              "}\n",
              "\n",
              "/* on hover */\n",
              "#sk-container-id-1 div.sk-estimator:hover {\n",
              "  /* unfitted */\n",
              "  background-color: var(--sklearn-color-unfitted-level-2);\n",
              "}\n",
              "\n",
              "#sk-container-id-1 div.sk-estimator.fitted:hover {\n",
              "  /* fitted */\n",
              "  background-color: var(--sklearn-color-fitted-level-2);\n",
              "}\n",
              "\n",
              "/* Specification for estimator info (e.g. \"i\" and \"?\") */\n",
              "\n",
              "/* Common style for \"i\" and \"?\" */\n",
              "\n",
              ".sk-estimator-doc-link,\n",
              "a:link.sk-estimator-doc-link,\n",
              "a:visited.sk-estimator-doc-link {\n",
              "  float: right;\n",
              "  font-size: smaller;\n",
              "  line-height: 1em;\n",
              "  font-family: monospace;\n",
              "  background-color: var(--sklearn-color-background);\n",
              "  border-radius: 1em;\n",
              "  height: 1em;\n",
              "  width: 1em;\n",
              "  text-decoration: none !important;\n",
              "  margin-left: 1ex;\n",
              "  /* unfitted */\n",
              "  border: var(--sklearn-color-unfitted-level-1) 1pt solid;\n",
              "  color: var(--sklearn-color-unfitted-level-1);\n",
              "}\n",
              "\n",
              ".sk-estimator-doc-link.fitted,\n",
              "a:link.sk-estimator-doc-link.fitted,\n",
              "a:visited.sk-estimator-doc-link.fitted {\n",
              "  /* fitted */\n",
              "  border: var(--sklearn-color-fitted-level-1) 1pt solid;\n",
              "  color: var(--sklearn-color-fitted-level-1);\n",
              "}\n",
              "\n",
              "/* On hover */\n",
              "div.sk-estimator:hover .sk-estimator-doc-link:hover,\n",
              ".sk-estimator-doc-link:hover,\n",
              "div.sk-label-container:hover .sk-estimator-doc-link:hover,\n",
              ".sk-estimator-doc-link:hover {\n",
              "  /* unfitted */\n",
              "  background-color: var(--sklearn-color-unfitted-level-3);\n",
              "  color: var(--sklearn-color-background);\n",
              "  text-decoration: none;\n",
              "}\n",
              "\n",
              "div.sk-estimator.fitted:hover .sk-estimator-doc-link.fitted:hover,\n",
              ".sk-estimator-doc-link.fitted:hover,\n",
              "div.sk-label-container:hover .sk-estimator-doc-link.fitted:hover,\n",
              ".sk-estimator-doc-link.fitted:hover {\n",
              "  /* fitted */\n",
              "  background-color: var(--sklearn-color-fitted-level-3);\n",
              "  color: var(--sklearn-color-background);\n",
              "  text-decoration: none;\n",
              "}\n",
              "\n",
              "/* Span, style for the box shown on hovering the info icon */\n",
              ".sk-estimator-doc-link span {\n",
              "  display: none;\n",
              "  z-index: 9999;\n",
              "  position: relative;\n",
              "  font-weight: normal;\n",
              "  right: .2ex;\n",
              "  padding: .5ex;\n",
              "  margin: .5ex;\n",
              "  width: min-content;\n",
              "  min-width: 20ex;\n",
              "  max-width: 50ex;\n",
              "  color: var(--sklearn-color-text);\n",
              "  box-shadow: 2pt 2pt 4pt #999;\n",
              "  /* unfitted */\n",
              "  background: var(--sklearn-color-unfitted-level-0);\n",
              "  border: .5pt solid var(--sklearn-color-unfitted-level-3);\n",
              "}\n",
              "\n",
              ".sk-estimator-doc-link.fitted span {\n",
              "  /* fitted */\n",
              "  background: var(--sklearn-color-fitted-level-0);\n",
              "  border: var(--sklearn-color-fitted-level-3);\n",
              "}\n",
              "\n",
              ".sk-estimator-doc-link:hover span {\n",
              "  display: block;\n",
              "}\n",
              "\n",
              "/* \"?\"-specific style due to the `<a>` HTML tag */\n",
              "\n",
              "#sk-container-id-1 a.estimator_doc_link {\n",
              "  float: right;\n",
              "  font-size: 1rem;\n",
              "  line-height: 1em;\n",
              "  font-family: monospace;\n",
              "  background-color: var(--sklearn-color-background);\n",
              "  border-radius: 1rem;\n",
              "  height: 1rem;\n",
              "  width: 1rem;\n",
              "  text-decoration: none;\n",
              "  /* unfitted */\n",
              "  color: var(--sklearn-color-unfitted-level-1);\n",
              "  border: var(--sklearn-color-unfitted-level-1) 1pt solid;\n",
              "}\n",
              "\n",
              "#sk-container-id-1 a.estimator_doc_link.fitted {\n",
              "  /* fitted */\n",
              "  border: var(--sklearn-color-fitted-level-1) 1pt solid;\n",
              "  color: var(--sklearn-color-fitted-level-1);\n",
              "}\n",
              "\n",
              "/* On hover */\n",
              "#sk-container-id-1 a.estimator_doc_link:hover {\n",
              "  /* unfitted */\n",
              "  background-color: var(--sklearn-color-unfitted-level-3);\n",
              "  color: var(--sklearn-color-background);\n",
              "  text-decoration: none;\n",
              "}\n",
              "\n",
              "#sk-container-id-1 a.estimator_doc_link.fitted:hover {\n",
              "  /* fitted */\n",
              "  background-color: var(--sklearn-color-fitted-level-3);\n",
              "}\n",
              "</style><div id=\"sk-container-id-1\" class=\"sk-top-container\"><div class=\"sk-text-repr-fallback\"><pre>GridSearchCV(estimator=DecisionTreeClassifier(random_state=42), n_jobs=-1,\n",
              "             param_grid={&#x27;min_impurity_decrease&#x27;: [0.0001, 0.0002, 0.0003,\n",
              "                                                   0.0004, 0.0005]})</pre><b>In a Jupyter environment, please rerun this cell to show the HTML representation or trust the notebook. <br />On GitHub, the HTML representation is unable to render, please try loading this page with nbviewer.org.</b></div><div class=\"sk-container\" hidden><div class=\"sk-item sk-dashed-wrapped\"><div class=\"sk-label-container\"><div class=\"sk-label fitted sk-toggleable\"><input class=\"sk-toggleable__control sk-hidden--visually\" id=\"sk-estimator-id-1\" type=\"checkbox\" ><label for=\"sk-estimator-id-1\" class=\"sk-toggleable__label fitted sk-toggleable__label-arrow fitted\">&nbsp;&nbsp;GridSearchCV<a class=\"sk-estimator-doc-link fitted\" rel=\"noreferrer\" target=\"_blank\" href=\"https://scikit-learn.org/1.5/modules/generated/sklearn.model_selection.GridSearchCV.html\">?<span>Documentation for GridSearchCV</span></a><span class=\"sk-estimator-doc-link fitted\">i<span>Fitted</span></span></label><div class=\"sk-toggleable__content fitted\"><pre>GridSearchCV(estimator=DecisionTreeClassifier(random_state=42), n_jobs=-1,\n",
              "             param_grid={&#x27;min_impurity_decrease&#x27;: [0.0001, 0.0002, 0.0003,\n",
              "                                                   0.0004, 0.0005]})</pre></div> </div></div><div class=\"sk-parallel\"><div class=\"sk-parallel-item\"><div class=\"sk-item\"><div class=\"sk-label-container\"><div class=\"sk-label fitted sk-toggleable\"><input class=\"sk-toggleable__control sk-hidden--visually\" id=\"sk-estimator-id-2\" type=\"checkbox\" ><label for=\"sk-estimator-id-2\" class=\"sk-toggleable__label fitted sk-toggleable__label-arrow fitted\">best_estimator_: DecisionTreeClassifier</label><div class=\"sk-toggleable__content fitted\"><pre>DecisionTreeClassifier(min_impurity_decrease=0.0001, random_state=42)</pre></div> </div></div><div class=\"sk-serial\"><div class=\"sk-item\"><div class=\"sk-estimator fitted sk-toggleable\"><input class=\"sk-toggleable__control sk-hidden--visually\" id=\"sk-estimator-id-3\" type=\"checkbox\" ><label for=\"sk-estimator-id-3\" class=\"sk-toggleable__label fitted sk-toggleable__label-arrow fitted\">&nbsp;DecisionTreeClassifier<a class=\"sk-estimator-doc-link fitted\" rel=\"noreferrer\" target=\"_blank\" href=\"https://scikit-learn.org/1.5/modules/generated/sklearn.tree.DecisionTreeClassifier.html\">?<span>Documentation for DecisionTreeClassifier</span></a></label><div class=\"sk-toggleable__content fitted\"><pre>DecisionTreeClassifier(min_impurity_decrease=0.0001, random_state=42)</pre></div> </div></div></div></div></div></div></div></div></div>"
            ]
          },
          "metadata": {},
          "execution_count": 13
        }
      ]
    },
    {
      "cell_type": "code",
      "source": [
        "dt = gs.best_estimator_\n",
        "print(dt.score(train_input, train_target))"
      ],
      "metadata": {
        "colab": {
          "base_uri": "https://localhost:8080/"
        },
        "id": "szcJkyaIU3lY",
        "outputId": "dc9dd9e5-a4a3-4609-9e26-3425cd624a05"
      },
      "execution_count": 14,
      "outputs": [
        {
          "output_type": "stream",
          "name": "stdout",
          "text": [
            "0.9615162593804117\n"
          ]
        }
      ]
    },
    {
      "cell_type": "code",
      "source": [
        "print(gs.best_params_)"
      ],
      "metadata": {
        "colab": {
          "base_uri": "https://localhost:8080/"
        },
        "id": "Gnxnw4roWEVA",
        "outputId": "dca29c3b-777a-46ca-a21f-8ea4959a641c"
      },
      "execution_count": 15,
      "outputs": [
        {
          "output_type": "stream",
          "name": "stdout",
          "text": [
            "{'min_impurity_decrease': 0.0001}\n"
          ]
        }
      ]
    },
    {
      "cell_type": "code",
      "source": [
        "print(gs.cv_results_['mean_test_score'])"
      ],
      "metadata": {
        "colab": {
          "base_uri": "https://localhost:8080/"
        },
        "id": "p5CUJqvSWHx8",
        "outputId": "63bc9c10-c96c-41a4-fd41-c942598001d1"
      },
      "execution_count": 16,
      "outputs": [
        {
          "output_type": "stream",
          "name": "stdout",
          "text": [
            "[0.86819297 0.86453617 0.86492226 0.86780891 0.86761605]\n"
          ]
        }
      ]
    },
    {
      "cell_type": "code",
      "source": [
        "best_index = np.argmax(gs.cv_results_['mean_test_score']) # 가장 큰 값 자동으로 선택 > 인덱스 추출\n",
        "print(gs.cv_results_['params'][best_index])"
      ],
      "metadata": {
        "colab": {
          "base_uri": "https://localhost:8080/"
        },
        "id": "Np8eckwNWXUX",
        "outputId": "5ac907d8-e7a7-41cf-8870-51d9dfda9fb8"
      },
      "execution_count": 17,
      "outputs": [
        {
          "output_type": "stream",
          "name": "stdout",
          "text": [
            "{'min_impurity_decrease': 0.0001}\n"
          ]
        }
      ]
    },
    {
      "cell_type": "markdown",
      "source": [
        "1. 먼저 탐색할 매개변수를 지정합니다.\n",
        "2. 그다음 훈련 세트에서 그리드 서치를 수행하여 최상의 평균 검증 점수가 나오는 매개변수 조합을 찾습니다. 이 조합은 그리드 서치 객체에 저장됩니다.\n",
        "3. 그리드 서치는 최상의 매개변수에서 (교차 검증에 사용한 훈련 세트가 아니라) 전체 훈련 세트를 사용해 최종 모델을 훈련합니다. 이 모델도 그리드 서치 객체에 저장됩니다."
      ],
      "metadata": {
        "id": "GgfuXChtW-e8"
      }
    },
    {
      "cell_type": "code",
      "source": [
        "params = {'min_impurity_decrease' : np.arange(0.0001, 0.001, 0.0001), # 첫번째 매개변수 값에서 시작하여 두번째 매개변수에 도달할 때까지 세번째 매개변수를 계속 더한 배열을 만듬\n",
        "          'max_depth' : range(5, 20, 1),\n",
        "          'min_samples_split' : range(2, 100, 10)\n",
        "          }"
      ],
      "metadata": {
        "id": "2KvfhhWdX5tI"
      },
      "execution_count": 18,
      "outputs": []
    },
    {
      "cell_type": "code",
      "source": [
        "gs = GridSearchCV(DecisionTreeClassifier(random_state=42), params, n_jobs=-1)\n",
        "gs.fit(train_input, train_target)"
      ],
      "metadata": {
        "colab": {
          "base_uri": "https://localhost:8080/",
          "height": 170
        },
        "id": "wIcCPmI6ZF1y",
        "outputId": "b5fc5562-63a4-4573-90db-87cd2c6e9196"
      },
      "execution_count": 19,
      "outputs": [
        {
          "output_type": "stream",
          "name": "stderr",
          "text": [
            "/usr/local/lib/python3.10/dist-packages/numpy/ma/core.py:2820: RuntimeWarning: invalid value encountered in cast\n",
            "  _data = np.array(data, dtype=dtype, copy=copy,\n"
          ]
        },
        {
          "output_type": "execute_result",
          "data": {
            "text/plain": [
              "GridSearchCV(estimator=DecisionTreeClassifier(random_state=42), n_jobs=-1,\n",
              "             param_grid={'max_depth': range(5, 20),\n",
              "                         'min_impurity_decrease': array([0.0001, 0.0002, 0.0003, 0.0004, 0.0005, 0.0006, 0.0007, 0.0008,\n",
              "       0.0009]),\n",
              "                         'min_samples_split': range(2, 100, 10)})"
            ],
            "text/html": [
              "<style>#sk-container-id-2 {\n",
              "  /* Definition of color scheme common for light and dark mode */\n",
              "  --sklearn-color-text: black;\n",
              "  --sklearn-color-line: gray;\n",
              "  /* Definition of color scheme for unfitted estimators */\n",
              "  --sklearn-color-unfitted-level-0: #fff5e6;\n",
              "  --sklearn-color-unfitted-level-1: #f6e4d2;\n",
              "  --sklearn-color-unfitted-level-2: #ffe0b3;\n",
              "  --sklearn-color-unfitted-level-3: chocolate;\n",
              "  /* Definition of color scheme for fitted estimators */\n",
              "  --sklearn-color-fitted-level-0: #f0f8ff;\n",
              "  --sklearn-color-fitted-level-1: #d4ebff;\n",
              "  --sklearn-color-fitted-level-2: #b3dbfd;\n",
              "  --sklearn-color-fitted-level-3: cornflowerblue;\n",
              "\n",
              "  /* Specific color for light theme */\n",
              "  --sklearn-color-text-on-default-background: var(--sg-text-color, var(--theme-code-foreground, var(--jp-content-font-color1, black)));\n",
              "  --sklearn-color-background: var(--sg-background-color, var(--theme-background, var(--jp-layout-color0, white)));\n",
              "  --sklearn-color-border-box: var(--sg-text-color, var(--theme-code-foreground, var(--jp-content-font-color1, black)));\n",
              "  --sklearn-color-icon: #696969;\n",
              "\n",
              "  @media (prefers-color-scheme: dark) {\n",
              "    /* Redefinition of color scheme for dark theme */\n",
              "    --sklearn-color-text-on-default-background: var(--sg-text-color, var(--theme-code-foreground, var(--jp-content-font-color1, white)));\n",
              "    --sklearn-color-background: var(--sg-background-color, var(--theme-background, var(--jp-layout-color0, #111)));\n",
              "    --sklearn-color-border-box: var(--sg-text-color, var(--theme-code-foreground, var(--jp-content-font-color1, white)));\n",
              "    --sklearn-color-icon: #878787;\n",
              "  }\n",
              "}\n",
              "\n",
              "#sk-container-id-2 {\n",
              "  color: var(--sklearn-color-text);\n",
              "}\n",
              "\n",
              "#sk-container-id-2 pre {\n",
              "  padding: 0;\n",
              "}\n",
              "\n",
              "#sk-container-id-2 input.sk-hidden--visually {\n",
              "  border: 0;\n",
              "  clip: rect(1px 1px 1px 1px);\n",
              "  clip: rect(1px, 1px, 1px, 1px);\n",
              "  height: 1px;\n",
              "  margin: -1px;\n",
              "  overflow: hidden;\n",
              "  padding: 0;\n",
              "  position: absolute;\n",
              "  width: 1px;\n",
              "}\n",
              "\n",
              "#sk-container-id-2 div.sk-dashed-wrapped {\n",
              "  border: 1px dashed var(--sklearn-color-line);\n",
              "  margin: 0 0.4em 0.5em 0.4em;\n",
              "  box-sizing: border-box;\n",
              "  padding-bottom: 0.4em;\n",
              "  background-color: var(--sklearn-color-background);\n",
              "}\n",
              "\n",
              "#sk-container-id-2 div.sk-container {\n",
              "  /* jupyter's `normalize.less` sets `[hidden] { display: none; }`\n",
              "     but bootstrap.min.css set `[hidden] { display: none !important; }`\n",
              "     so we also need the `!important` here to be able to override the\n",
              "     default hidden behavior on the sphinx rendered scikit-learn.org.\n",
              "     See: https://github.com/scikit-learn/scikit-learn/issues/21755 */\n",
              "  display: inline-block !important;\n",
              "  position: relative;\n",
              "}\n",
              "\n",
              "#sk-container-id-2 div.sk-text-repr-fallback {\n",
              "  display: none;\n",
              "}\n",
              "\n",
              "div.sk-parallel-item,\n",
              "div.sk-serial,\n",
              "div.sk-item {\n",
              "  /* draw centered vertical line to link estimators */\n",
              "  background-image: linear-gradient(var(--sklearn-color-text-on-default-background), var(--sklearn-color-text-on-default-background));\n",
              "  background-size: 2px 100%;\n",
              "  background-repeat: no-repeat;\n",
              "  background-position: center center;\n",
              "}\n",
              "\n",
              "/* Parallel-specific style estimator block */\n",
              "\n",
              "#sk-container-id-2 div.sk-parallel-item::after {\n",
              "  content: \"\";\n",
              "  width: 100%;\n",
              "  border-bottom: 2px solid var(--sklearn-color-text-on-default-background);\n",
              "  flex-grow: 1;\n",
              "}\n",
              "\n",
              "#sk-container-id-2 div.sk-parallel {\n",
              "  display: flex;\n",
              "  align-items: stretch;\n",
              "  justify-content: center;\n",
              "  background-color: var(--sklearn-color-background);\n",
              "  position: relative;\n",
              "}\n",
              "\n",
              "#sk-container-id-2 div.sk-parallel-item {\n",
              "  display: flex;\n",
              "  flex-direction: column;\n",
              "}\n",
              "\n",
              "#sk-container-id-2 div.sk-parallel-item:first-child::after {\n",
              "  align-self: flex-end;\n",
              "  width: 50%;\n",
              "}\n",
              "\n",
              "#sk-container-id-2 div.sk-parallel-item:last-child::after {\n",
              "  align-self: flex-start;\n",
              "  width: 50%;\n",
              "}\n",
              "\n",
              "#sk-container-id-2 div.sk-parallel-item:only-child::after {\n",
              "  width: 0;\n",
              "}\n",
              "\n",
              "/* Serial-specific style estimator block */\n",
              "\n",
              "#sk-container-id-2 div.sk-serial {\n",
              "  display: flex;\n",
              "  flex-direction: column;\n",
              "  align-items: center;\n",
              "  background-color: var(--sklearn-color-background);\n",
              "  padding-right: 1em;\n",
              "  padding-left: 1em;\n",
              "}\n",
              "\n",
              "\n",
              "/* Toggleable style: style used for estimator/Pipeline/ColumnTransformer box that is\n",
              "clickable and can be expanded/collapsed.\n",
              "- Pipeline and ColumnTransformer use this feature and define the default style\n",
              "- Estimators will overwrite some part of the style using the `sk-estimator` class\n",
              "*/\n",
              "\n",
              "/* Pipeline and ColumnTransformer style (default) */\n",
              "\n",
              "#sk-container-id-2 div.sk-toggleable {\n",
              "  /* Default theme specific background. It is overwritten whether we have a\n",
              "  specific estimator or a Pipeline/ColumnTransformer */\n",
              "  background-color: var(--sklearn-color-background);\n",
              "}\n",
              "\n",
              "/* Toggleable label */\n",
              "#sk-container-id-2 label.sk-toggleable__label {\n",
              "  cursor: pointer;\n",
              "  display: block;\n",
              "  width: 100%;\n",
              "  margin-bottom: 0;\n",
              "  padding: 0.5em;\n",
              "  box-sizing: border-box;\n",
              "  text-align: center;\n",
              "}\n",
              "\n",
              "#sk-container-id-2 label.sk-toggleable__label-arrow:before {\n",
              "  /* Arrow on the left of the label */\n",
              "  content: \"▸\";\n",
              "  float: left;\n",
              "  margin-right: 0.25em;\n",
              "  color: var(--sklearn-color-icon);\n",
              "}\n",
              "\n",
              "#sk-container-id-2 label.sk-toggleable__label-arrow:hover:before {\n",
              "  color: var(--sklearn-color-text);\n",
              "}\n",
              "\n",
              "/* Toggleable content - dropdown */\n",
              "\n",
              "#sk-container-id-2 div.sk-toggleable__content {\n",
              "  max-height: 0;\n",
              "  max-width: 0;\n",
              "  overflow: hidden;\n",
              "  text-align: left;\n",
              "  /* unfitted */\n",
              "  background-color: var(--sklearn-color-unfitted-level-0);\n",
              "}\n",
              "\n",
              "#sk-container-id-2 div.sk-toggleable__content.fitted {\n",
              "  /* fitted */\n",
              "  background-color: var(--sklearn-color-fitted-level-0);\n",
              "}\n",
              "\n",
              "#sk-container-id-2 div.sk-toggleable__content pre {\n",
              "  margin: 0.2em;\n",
              "  border-radius: 0.25em;\n",
              "  color: var(--sklearn-color-text);\n",
              "  /* unfitted */\n",
              "  background-color: var(--sklearn-color-unfitted-level-0);\n",
              "}\n",
              "\n",
              "#sk-container-id-2 div.sk-toggleable__content.fitted pre {\n",
              "  /* unfitted */\n",
              "  background-color: var(--sklearn-color-fitted-level-0);\n",
              "}\n",
              "\n",
              "#sk-container-id-2 input.sk-toggleable__control:checked~div.sk-toggleable__content {\n",
              "  /* Expand drop-down */\n",
              "  max-height: 200px;\n",
              "  max-width: 100%;\n",
              "  overflow: auto;\n",
              "}\n",
              "\n",
              "#sk-container-id-2 input.sk-toggleable__control:checked~label.sk-toggleable__label-arrow:before {\n",
              "  content: \"▾\";\n",
              "}\n",
              "\n",
              "/* Pipeline/ColumnTransformer-specific style */\n",
              "\n",
              "#sk-container-id-2 div.sk-label input.sk-toggleable__control:checked~label.sk-toggleable__label {\n",
              "  color: var(--sklearn-color-text);\n",
              "  background-color: var(--sklearn-color-unfitted-level-2);\n",
              "}\n",
              "\n",
              "#sk-container-id-2 div.sk-label.fitted input.sk-toggleable__control:checked~label.sk-toggleable__label {\n",
              "  background-color: var(--sklearn-color-fitted-level-2);\n",
              "}\n",
              "\n",
              "/* Estimator-specific style */\n",
              "\n",
              "/* Colorize estimator box */\n",
              "#sk-container-id-2 div.sk-estimator input.sk-toggleable__control:checked~label.sk-toggleable__label {\n",
              "  /* unfitted */\n",
              "  background-color: var(--sklearn-color-unfitted-level-2);\n",
              "}\n",
              "\n",
              "#sk-container-id-2 div.sk-estimator.fitted input.sk-toggleable__control:checked~label.sk-toggleable__label {\n",
              "  /* fitted */\n",
              "  background-color: var(--sklearn-color-fitted-level-2);\n",
              "}\n",
              "\n",
              "#sk-container-id-2 div.sk-label label.sk-toggleable__label,\n",
              "#sk-container-id-2 div.sk-label label {\n",
              "  /* The background is the default theme color */\n",
              "  color: var(--sklearn-color-text-on-default-background);\n",
              "}\n",
              "\n",
              "/* On hover, darken the color of the background */\n",
              "#sk-container-id-2 div.sk-label:hover label.sk-toggleable__label {\n",
              "  color: var(--sklearn-color-text);\n",
              "  background-color: var(--sklearn-color-unfitted-level-2);\n",
              "}\n",
              "\n",
              "/* Label box, darken color on hover, fitted */\n",
              "#sk-container-id-2 div.sk-label.fitted:hover label.sk-toggleable__label.fitted {\n",
              "  color: var(--sklearn-color-text);\n",
              "  background-color: var(--sklearn-color-fitted-level-2);\n",
              "}\n",
              "\n",
              "/* Estimator label */\n",
              "\n",
              "#sk-container-id-2 div.sk-label label {\n",
              "  font-family: monospace;\n",
              "  font-weight: bold;\n",
              "  display: inline-block;\n",
              "  line-height: 1.2em;\n",
              "}\n",
              "\n",
              "#sk-container-id-2 div.sk-label-container {\n",
              "  text-align: center;\n",
              "}\n",
              "\n",
              "/* Estimator-specific */\n",
              "#sk-container-id-2 div.sk-estimator {\n",
              "  font-family: monospace;\n",
              "  border: 1px dotted var(--sklearn-color-border-box);\n",
              "  border-radius: 0.25em;\n",
              "  box-sizing: border-box;\n",
              "  margin-bottom: 0.5em;\n",
              "  /* unfitted */\n",
              "  background-color: var(--sklearn-color-unfitted-level-0);\n",
              "}\n",
              "\n",
              "#sk-container-id-2 div.sk-estimator.fitted {\n",
              "  /* fitted */\n",
              "  background-color: var(--sklearn-color-fitted-level-0);\n",
              "}\n",
              "\n",
              "/* on hover */\n",
              "#sk-container-id-2 div.sk-estimator:hover {\n",
              "  /* unfitted */\n",
              "  background-color: var(--sklearn-color-unfitted-level-2);\n",
              "}\n",
              "\n",
              "#sk-container-id-2 div.sk-estimator.fitted:hover {\n",
              "  /* fitted */\n",
              "  background-color: var(--sklearn-color-fitted-level-2);\n",
              "}\n",
              "\n",
              "/* Specification for estimator info (e.g. \"i\" and \"?\") */\n",
              "\n",
              "/* Common style for \"i\" and \"?\" */\n",
              "\n",
              ".sk-estimator-doc-link,\n",
              "a:link.sk-estimator-doc-link,\n",
              "a:visited.sk-estimator-doc-link {\n",
              "  float: right;\n",
              "  font-size: smaller;\n",
              "  line-height: 1em;\n",
              "  font-family: monospace;\n",
              "  background-color: var(--sklearn-color-background);\n",
              "  border-radius: 1em;\n",
              "  height: 1em;\n",
              "  width: 1em;\n",
              "  text-decoration: none !important;\n",
              "  margin-left: 1ex;\n",
              "  /* unfitted */\n",
              "  border: var(--sklearn-color-unfitted-level-1) 1pt solid;\n",
              "  color: var(--sklearn-color-unfitted-level-1);\n",
              "}\n",
              "\n",
              ".sk-estimator-doc-link.fitted,\n",
              "a:link.sk-estimator-doc-link.fitted,\n",
              "a:visited.sk-estimator-doc-link.fitted {\n",
              "  /* fitted */\n",
              "  border: var(--sklearn-color-fitted-level-1) 1pt solid;\n",
              "  color: var(--sklearn-color-fitted-level-1);\n",
              "}\n",
              "\n",
              "/* On hover */\n",
              "div.sk-estimator:hover .sk-estimator-doc-link:hover,\n",
              ".sk-estimator-doc-link:hover,\n",
              "div.sk-label-container:hover .sk-estimator-doc-link:hover,\n",
              ".sk-estimator-doc-link:hover {\n",
              "  /* unfitted */\n",
              "  background-color: var(--sklearn-color-unfitted-level-3);\n",
              "  color: var(--sklearn-color-background);\n",
              "  text-decoration: none;\n",
              "}\n",
              "\n",
              "div.sk-estimator.fitted:hover .sk-estimator-doc-link.fitted:hover,\n",
              ".sk-estimator-doc-link.fitted:hover,\n",
              "div.sk-label-container:hover .sk-estimator-doc-link.fitted:hover,\n",
              ".sk-estimator-doc-link.fitted:hover {\n",
              "  /* fitted */\n",
              "  background-color: var(--sklearn-color-fitted-level-3);\n",
              "  color: var(--sklearn-color-background);\n",
              "  text-decoration: none;\n",
              "}\n",
              "\n",
              "/* Span, style for the box shown on hovering the info icon */\n",
              ".sk-estimator-doc-link span {\n",
              "  display: none;\n",
              "  z-index: 9999;\n",
              "  position: relative;\n",
              "  font-weight: normal;\n",
              "  right: .2ex;\n",
              "  padding: .5ex;\n",
              "  margin: .5ex;\n",
              "  width: min-content;\n",
              "  min-width: 20ex;\n",
              "  max-width: 50ex;\n",
              "  color: var(--sklearn-color-text);\n",
              "  box-shadow: 2pt 2pt 4pt #999;\n",
              "  /* unfitted */\n",
              "  background: var(--sklearn-color-unfitted-level-0);\n",
              "  border: .5pt solid var(--sklearn-color-unfitted-level-3);\n",
              "}\n",
              "\n",
              ".sk-estimator-doc-link.fitted span {\n",
              "  /* fitted */\n",
              "  background: var(--sklearn-color-fitted-level-0);\n",
              "  border: var(--sklearn-color-fitted-level-3);\n",
              "}\n",
              "\n",
              ".sk-estimator-doc-link:hover span {\n",
              "  display: block;\n",
              "}\n",
              "\n",
              "/* \"?\"-specific style due to the `<a>` HTML tag */\n",
              "\n",
              "#sk-container-id-2 a.estimator_doc_link {\n",
              "  float: right;\n",
              "  font-size: 1rem;\n",
              "  line-height: 1em;\n",
              "  font-family: monospace;\n",
              "  background-color: var(--sklearn-color-background);\n",
              "  border-radius: 1rem;\n",
              "  height: 1rem;\n",
              "  width: 1rem;\n",
              "  text-decoration: none;\n",
              "  /* unfitted */\n",
              "  color: var(--sklearn-color-unfitted-level-1);\n",
              "  border: var(--sklearn-color-unfitted-level-1) 1pt solid;\n",
              "}\n",
              "\n",
              "#sk-container-id-2 a.estimator_doc_link.fitted {\n",
              "  /* fitted */\n",
              "  border: var(--sklearn-color-fitted-level-1) 1pt solid;\n",
              "  color: var(--sklearn-color-fitted-level-1);\n",
              "}\n",
              "\n",
              "/* On hover */\n",
              "#sk-container-id-2 a.estimator_doc_link:hover {\n",
              "  /* unfitted */\n",
              "  background-color: var(--sklearn-color-unfitted-level-3);\n",
              "  color: var(--sklearn-color-background);\n",
              "  text-decoration: none;\n",
              "}\n",
              "\n",
              "#sk-container-id-2 a.estimator_doc_link.fitted:hover {\n",
              "  /* fitted */\n",
              "  background-color: var(--sklearn-color-fitted-level-3);\n",
              "}\n",
              "</style><div id=\"sk-container-id-2\" class=\"sk-top-container\"><div class=\"sk-text-repr-fallback\"><pre>GridSearchCV(estimator=DecisionTreeClassifier(random_state=42), n_jobs=-1,\n",
              "             param_grid={&#x27;max_depth&#x27;: range(5, 20),\n",
              "                         &#x27;min_impurity_decrease&#x27;: array([0.0001, 0.0002, 0.0003, 0.0004, 0.0005, 0.0006, 0.0007, 0.0008,\n",
              "       0.0009]),\n",
              "                         &#x27;min_samples_split&#x27;: range(2, 100, 10)})</pre><b>In a Jupyter environment, please rerun this cell to show the HTML representation or trust the notebook. <br />On GitHub, the HTML representation is unable to render, please try loading this page with nbviewer.org.</b></div><div class=\"sk-container\" hidden><div class=\"sk-item sk-dashed-wrapped\"><div class=\"sk-label-container\"><div class=\"sk-label fitted sk-toggleable\"><input class=\"sk-toggleable__control sk-hidden--visually\" id=\"sk-estimator-id-4\" type=\"checkbox\" ><label for=\"sk-estimator-id-4\" class=\"sk-toggleable__label fitted sk-toggleable__label-arrow fitted\">&nbsp;&nbsp;GridSearchCV<a class=\"sk-estimator-doc-link fitted\" rel=\"noreferrer\" target=\"_blank\" href=\"https://scikit-learn.org/1.5/modules/generated/sklearn.model_selection.GridSearchCV.html\">?<span>Documentation for GridSearchCV</span></a><span class=\"sk-estimator-doc-link fitted\">i<span>Fitted</span></span></label><div class=\"sk-toggleable__content fitted\"><pre>GridSearchCV(estimator=DecisionTreeClassifier(random_state=42), n_jobs=-1,\n",
              "             param_grid={&#x27;max_depth&#x27;: range(5, 20),\n",
              "                         &#x27;min_impurity_decrease&#x27;: array([0.0001, 0.0002, 0.0003, 0.0004, 0.0005, 0.0006, 0.0007, 0.0008,\n",
              "       0.0009]),\n",
              "                         &#x27;min_samples_split&#x27;: range(2, 100, 10)})</pre></div> </div></div><div class=\"sk-parallel\"><div class=\"sk-parallel-item\"><div class=\"sk-item\"><div class=\"sk-label-container\"><div class=\"sk-label fitted sk-toggleable\"><input class=\"sk-toggleable__control sk-hidden--visually\" id=\"sk-estimator-id-5\" type=\"checkbox\" ><label for=\"sk-estimator-id-5\" class=\"sk-toggleable__label fitted sk-toggleable__label-arrow fitted\">best_estimator_: DecisionTreeClassifier</label><div class=\"sk-toggleable__content fitted\"><pre>DecisionTreeClassifier(max_depth=14, min_impurity_decrease=0.0004,\n",
              "                       min_samples_split=12, random_state=42)</pre></div> </div></div><div class=\"sk-serial\"><div class=\"sk-item\"><div class=\"sk-estimator fitted sk-toggleable\"><input class=\"sk-toggleable__control sk-hidden--visually\" id=\"sk-estimator-id-6\" type=\"checkbox\" ><label for=\"sk-estimator-id-6\" class=\"sk-toggleable__label fitted sk-toggleable__label-arrow fitted\">&nbsp;DecisionTreeClassifier<a class=\"sk-estimator-doc-link fitted\" rel=\"noreferrer\" target=\"_blank\" href=\"https://scikit-learn.org/1.5/modules/generated/sklearn.tree.DecisionTreeClassifier.html\">?<span>Documentation for DecisionTreeClassifier</span></a></label><div class=\"sk-toggleable__content fitted\"><pre>DecisionTreeClassifier(max_depth=14, min_impurity_decrease=0.0004,\n",
              "                       min_samples_split=12, random_state=42)</pre></div> </div></div></div></div></div></div></div></div></div>"
            ]
          },
          "metadata": {},
          "execution_count": 19
        }
      ]
    },
    {
      "cell_type": "code",
      "source": [
        "print(gs.best_params_)"
      ],
      "metadata": {
        "colab": {
          "base_uri": "https://localhost:8080/"
        },
        "id": "vwWX6L8pZJfz",
        "outputId": "ac8c8206-6d41-440b-e8bb-6d6005dc3b38"
      },
      "execution_count": 20,
      "outputs": [
        {
          "output_type": "stream",
          "name": "stdout",
          "text": [
            "{'max_depth': 14, 'min_impurity_decrease': 0.0004, 'min_samples_split': 12}\n"
          ]
        }
      ]
    },
    {
      "cell_type": "code",
      "source": [
        "# 최상의 교차 검증 점수 확인\n",
        "print(np.max(gs.cv_results_['mean_test_score']))"
      ],
      "metadata": {
        "colab": {
          "base_uri": "https://localhost:8080/"
        },
        "id": "qd2fWRG6ZYKS",
        "outputId": "650c1258-d2ad-42db-d37b-d3e23a1ad102"
      },
      "execution_count": 21,
      "outputs": [
        {
          "output_type": "stream",
          "name": "stdout",
          "text": [
            "0.8683865773302731\n"
          ]
        }
      ]
    },
    {
      "cell_type": "markdown",
      "source": [
        "GridSearchCV 클래스를 사용하니 매개변수를 일일이 바꿔가며 교차 검증을 수행하지 않고 원하는 매개변수 값을 나열하면 자동으로 교차 검증을 수행해서 최상의 매개변수를 찾을 수 있습니다.\n",
        "\n",
        "GridSearchCV는 각 하이퍼파라미터 값들을 고정된 간격으로 지정해야 하기 때문에, 간격 설정에 따라 최적의 매개변수를 놓치거나 탐색 범위를 비효율적으로 설정할 가능성이 있습니다.\n",
        "\n",
        "이를 해결하기 위해, 사이킷런에서는 RandomizedSearchCV와 같은 기술을 제공하며, 최근에는 Bayesian Optimization 등 더 효율적인 최적화 기법이 많이 사용되고 있습니다."
      ],
      "metadata": {
        "id": "67xhxGKDZ-is"
      }
    },
    {
      "cell_type": "markdown",
      "source": [
        "### 랜덤 서치\n",
        "연속된 매개변수 값을 탐색할 때 유용합니다. 탐색할 값을 직접 나열하는 것이 아니고 탐색 값을 샘플링할 수 있는 확률 분포 객체를 전달합니다. 지정된 횟수만큼 샘플링하여 교차 검증을 수행하기 때문에 시스템 자원이 허락하는 만큼 탐색량을 조절할 수 있습니다."
      ],
      "metadata": {
        "id": "COj8zxec-P2T"
      }
    },
    {
      "cell_type": "markdown",
      "source": [
        "- 싸이파이(scipy)는 어떤 라이브러리인가요?\\\n",
        "싸이파이는 파이썬의 핵심 과학 라이브러리 중 하나입니다. 적분, 보간, 선형 대수, 확률 등을 포함한 수치 계산 전용 라이브러리입니다. 사이킷런은 넘파이와 싸이파이 기능을 많이 사용합니다. 코랩에도 이미 설치되어 있습니다."
      ],
      "metadata": {
        "id": "AtchSh9pdW57"
      }
    },
    {
      "cell_type": "code",
      "source": [
        "from scipy.stats import uniform, randint # 주어진 범위에서 고르게 값을 뽑음"
      ],
      "metadata": {
        "id": "v4_WF5jYdq2v"
      },
      "execution_count": 22,
      "outputs": []
    },
    {
      "cell_type": "code",
      "source": [
        "rgen = randint(0, 10)\n",
        "rgen.rvs(10)"
      ],
      "metadata": {
        "colab": {
          "base_uri": "https://localhost:8080/"
        },
        "id": "GQycWKaWe1Ps",
        "outputId": "687a3f4b-442c-4c7f-dfd5-4f42d949ab70"
      },
      "execution_count": 23,
      "outputs": [
        {
          "output_type": "execute_result",
          "data": {
            "text/plain": [
              "array([8, 4, 2, 1, 4, 4, 2, 7, 0, 2])"
            ]
          },
          "metadata": {},
          "execution_count": 23
        }
      ]
    },
    {
      "cell_type": "code",
      "source": [
        "np.unique(rgen.rvs(1000), return_counts=True) # 첫 번째 배열에 나열된 각 값이 몇 번 등장했는지 나타냄"
      ],
      "metadata": {
        "colab": {
          "base_uri": "https://localhost:8080/"
        },
        "id": "twm1FTSee91F",
        "outputId": "73396015-aa8f-4fe3-e0be-81193221af62"
      },
      "execution_count": 24,
      "outputs": [
        {
          "output_type": "execute_result",
          "data": {
            "text/plain": [
              "(array([0, 1, 2, 3, 4, 5, 6, 7, 8, 9]),\n",
              " array([120, 100, 106,  86,  89,  95,  90, 101,  97, 116]))"
            ]
          },
          "metadata": {},
          "execution_count": 24
        }
      ]
    },
    {
      "cell_type": "code",
      "source": [
        "ugen = uniform(0, 1)\n",
        "ugen.rvs(10)"
      ],
      "metadata": {
        "colab": {
          "base_uri": "https://localhost:8080/"
        },
        "id": "W2Eyk2Mufn1C",
        "outputId": "81ff0fc7-8d85-409e-dcf6-0d5fe472e513"
      },
      "execution_count": 25,
      "outputs": [
        {
          "output_type": "execute_result",
          "data": {
            "text/plain": [
              "array([0.56788188, 0.05802458, 0.37721395, 0.26639892, 0.87048153,\n",
              "       0.53012192, 0.65567377, 0.51400804, 0.01531722, 0.8171294 ])"
            ]
          },
          "metadata": {},
          "execution_count": 25
        }
      ]
    },
    {
      "cell_type": "code",
      "source": [
        "# 탐색할 매개변수\n",
        "params = {'min_impurity_decrease' : uniform(0.0001, 0.001),\n",
        "          'max_depth' : randint(20, 50),\n",
        "          'min_samples_split' : randint(2, 25),\n",
        "          'min_samples_leaf' : randint(1, 25)\n",
        "          } # 샘플링 횟수는 사이킷런의 랜덤 서치 클래스인 RandomizedSearchCV의 n_iter 매개변수에 지정함"
      ],
      "metadata": {
        "id": "kNTtpurKf3Za"
      },
      "execution_count": 26,
      "outputs": []
    },
    {
      "cell_type": "code",
      "source": [
        "from sklearn.model_selection import RandomizedSearchCV\n",
        "gs = RandomizedSearchCV(DecisionTreeClassifier(random_state=42), params, n_iter=100, n_jobs=-1, random_state=42)\n",
        "gs.fit(train_input, train_target)"
      ],
      "metadata": {
        "colab": {
          "base_uri": "https://localhost:8080/",
          "height": 134
        },
        "id": "Xo6ggst7gzZJ",
        "outputId": "e1bdfdd5-62f3-4050-95ea-0b06ec0b95d6"
      },
      "execution_count": 27,
      "outputs": [
        {
          "output_type": "execute_result",
          "data": {
            "text/plain": [
              "RandomizedSearchCV(estimator=DecisionTreeClassifier(random_state=42),\n",
              "                   n_iter=100, n_jobs=-1,\n",
              "                   param_distributions={'max_depth': <scipy.stats._distn_infrastructure.rv_discrete_frozen object at 0x7d417b996a10>,\n",
              "                                        'min_impurity_decrease': <scipy.stats._distn_infrastructure.rv_continuous_frozen object at 0x7d41b370f4c0>,\n",
              "                                        'min_samples_leaf': <scipy.stats._distn_infrastructure.rv_discrete_frozen object at 0x7d417b997580>,\n",
              "                                        'min_samples_split': <scipy.stats._distn_infrastructure.rv_discrete_frozen object at 0x7d417d234b80>},\n",
              "                   random_state=42)"
            ],
            "text/html": [
              "<style>#sk-container-id-3 {\n",
              "  /* Definition of color scheme common for light and dark mode */\n",
              "  --sklearn-color-text: black;\n",
              "  --sklearn-color-line: gray;\n",
              "  /* Definition of color scheme for unfitted estimators */\n",
              "  --sklearn-color-unfitted-level-0: #fff5e6;\n",
              "  --sklearn-color-unfitted-level-1: #f6e4d2;\n",
              "  --sklearn-color-unfitted-level-2: #ffe0b3;\n",
              "  --sklearn-color-unfitted-level-3: chocolate;\n",
              "  /* Definition of color scheme for fitted estimators */\n",
              "  --sklearn-color-fitted-level-0: #f0f8ff;\n",
              "  --sklearn-color-fitted-level-1: #d4ebff;\n",
              "  --sklearn-color-fitted-level-2: #b3dbfd;\n",
              "  --sklearn-color-fitted-level-3: cornflowerblue;\n",
              "\n",
              "  /* Specific color for light theme */\n",
              "  --sklearn-color-text-on-default-background: var(--sg-text-color, var(--theme-code-foreground, var(--jp-content-font-color1, black)));\n",
              "  --sklearn-color-background: var(--sg-background-color, var(--theme-background, var(--jp-layout-color0, white)));\n",
              "  --sklearn-color-border-box: var(--sg-text-color, var(--theme-code-foreground, var(--jp-content-font-color1, black)));\n",
              "  --sklearn-color-icon: #696969;\n",
              "\n",
              "  @media (prefers-color-scheme: dark) {\n",
              "    /* Redefinition of color scheme for dark theme */\n",
              "    --sklearn-color-text-on-default-background: var(--sg-text-color, var(--theme-code-foreground, var(--jp-content-font-color1, white)));\n",
              "    --sklearn-color-background: var(--sg-background-color, var(--theme-background, var(--jp-layout-color0, #111)));\n",
              "    --sklearn-color-border-box: var(--sg-text-color, var(--theme-code-foreground, var(--jp-content-font-color1, white)));\n",
              "    --sklearn-color-icon: #878787;\n",
              "  }\n",
              "}\n",
              "\n",
              "#sk-container-id-3 {\n",
              "  color: var(--sklearn-color-text);\n",
              "}\n",
              "\n",
              "#sk-container-id-3 pre {\n",
              "  padding: 0;\n",
              "}\n",
              "\n",
              "#sk-container-id-3 input.sk-hidden--visually {\n",
              "  border: 0;\n",
              "  clip: rect(1px 1px 1px 1px);\n",
              "  clip: rect(1px, 1px, 1px, 1px);\n",
              "  height: 1px;\n",
              "  margin: -1px;\n",
              "  overflow: hidden;\n",
              "  padding: 0;\n",
              "  position: absolute;\n",
              "  width: 1px;\n",
              "}\n",
              "\n",
              "#sk-container-id-3 div.sk-dashed-wrapped {\n",
              "  border: 1px dashed var(--sklearn-color-line);\n",
              "  margin: 0 0.4em 0.5em 0.4em;\n",
              "  box-sizing: border-box;\n",
              "  padding-bottom: 0.4em;\n",
              "  background-color: var(--sklearn-color-background);\n",
              "}\n",
              "\n",
              "#sk-container-id-3 div.sk-container {\n",
              "  /* jupyter's `normalize.less` sets `[hidden] { display: none; }`\n",
              "     but bootstrap.min.css set `[hidden] { display: none !important; }`\n",
              "     so we also need the `!important` here to be able to override the\n",
              "     default hidden behavior on the sphinx rendered scikit-learn.org.\n",
              "     See: https://github.com/scikit-learn/scikit-learn/issues/21755 */\n",
              "  display: inline-block !important;\n",
              "  position: relative;\n",
              "}\n",
              "\n",
              "#sk-container-id-3 div.sk-text-repr-fallback {\n",
              "  display: none;\n",
              "}\n",
              "\n",
              "div.sk-parallel-item,\n",
              "div.sk-serial,\n",
              "div.sk-item {\n",
              "  /* draw centered vertical line to link estimators */\n",
              "  background-image: linear-gradient(var(--sklearn-color-text-on-default-background), var(--sklearn-color-text-on-default-background));\n",
              "  background-size: 2px 100%;\n",
              "  background-repeat: no-repeat;\n",
              "  background-position: center center;\n",
              "}\n",
              "\n",
              "/* Parallel-specific style estimator block */\n",
              "\n",
              "#sk-container-id-3 div.sk-parallel-item::after {\n",
              "  content: \"\";\n",
              "  width: 100%;\n",
              "  border-bottom: 2px solid var(--sklearn-color-text-on-default-background);\n",
              "  flex-grow: 1;\n",
              "}\n",
              "\n",
              "#sk-container-id-3 div.sk-parallel {\n",
              "  display: flex;\n",
              "  align-items: stretch;\n",
              "  justify-content: center;\n",
              "  background-color: var(--sklearn-color-background);\n",
              "  position: relative;\n",
              "}\n",
              "\n",
              "#sk-container-id-3 div.sk-parallel-item {\n",
              "  display: flex;\n",
              "  flex-direction: column;\n",
              "}\n",
              "\n",
              "#sk-container-id-3 div.sk-parallel-item:first-child::after {\n",
              "  align-self: flex-end;\n",
              "  width: 50%;\n",
              "}\n",
              "\n",
              "#sk-container-id-3 div.sk-parallel-item:last-child::after {\n",
              "  align-self: flex-start;\n",
              "  width: 50%;\n",
              "}\n",
              "\n",
              "#sk-container-id-3 div.sk-parallel-item:only-child::after {\n",
              "  width: 0;\n",
              "}\n",
              "\n",
              "/* Serial-specific style estimator block */\n",
              "\n",
              "#sk-container-id-3 div.sk-serial {\n",
              "  display: flex;\n",
              "  flex-direction: column;\n",
              "  align-items: center;\n",
              "  background-color: var(--sklearn-color-background);\n",
              "  padding-right: 1em;\n",
              "  padding-left: 1em;\n",
              "}\n",
              "\n",
              "\n",
              "/* Toggleable style: style used for estimator/Pipeline/ColumnTransformer box that is\n",
              "clickable and can be expanded/collapsed.\n",
              "- Pipeline and ColumnTransformer use this feature and define the default style\n",
              "- Estimators will overwrite some part of the style using the `sk-estimator` class\n",
              "*/\n",
              "\n",
              "/* Pipeline and ColumnTransformer style (default) */\n",
              "\n",
              "#sk-container-id-3 div.sk-toggleable {\n",
              "  /* Default theme specific background. It is overwritten whether we have a\n",
              "  specific estimator or a Pipeline/ColumnTransformer */\n",
              "  background-color: var(--sklearn-color-background);\n",
              "}\n",
              "\n",
              "/* Toggleable label */\n",
              "#sk-container-id-3 label.sk-toggleable__label {\n",
              "  cursor: pointer;\n",
              "  display: block;\n",
              "  width: 100%;\n",
              "  margin-bottom: 0;\n",
              "  padding: 0.5em;\n",
              "  box-sizing: border-box;\n",
              "  text-align: center;\n",
              "}\n",
              "\n",
              "#sk-container-id-3 label.sk-toggleable__label-arrow:before {\n",
              "  /* Arrow on the left of the label */\n",
              "  content: \"▸\";\n",
              "  float: left;\n",
              "  margin-right: 0.25em;\n",
              "  color: var(--sklearn-color-icon);\n",
              "}\n",
              "\n",
              "#sk-container-id-3 label.sk-toggleable__label-arrow:hover:before {\n",
              "  color: var(--sklearn-color-text);\n",
              "}\n",
              "\n",
              "/* Toggleable content - dropdown */\n",
              "\n",
              "#sk-container-id-3 div.sk-toggleable__content {\n",
              "  max-height: 0;\n",
              "  max-width: 0;\n",
              "  overflow: hidden;\n",
              "  text-align: left;\n",
              "  /* unfitted */\n",
              "  background-color: var(--sklearn-color-unfitted-level-0);\n",
              "}\n",
              "\n",
              "#sk-container-id-3 div.sk-toggleable__content.fitted {\n",
              "  /* fitted */\n",
              "  background-color: var(--sklearn-color-fitted-level-0);\n",
              "}\n",
              "\n",
              "#sk-container-id-3 div.sk-toggleable__content pre {\n",
              "  margin: 0.2em;\n",
              "  border-radius: 0.25em;\n",
              "  color: var(--sklearn-color-text);\n",
              "  /* unfitted */\n",
              "  background-color: var(--sklearn-color-unfitted-level-0);\n",
              "}\n",
              "\n",
              "#sk-container-id-3 div.sk-toggleable__content.fitted pre {\n",
              "  /* unfitted */\n",
              "  background-color: var(--sklearn-color-fitted-level-0);\n",
              "}\n",
              "\n",
              "#sk-container-id-3 input.sk-toggleable__control:checked~div.sk-toggleable__content {\n",
              "  /* Expand drop-down */\n",
              "  max-height: 200px;\n",
              "  max-width: 100%;\n",
              "  overflow: auto;\n",
              "}\n",
              "\n",
              "#sk-container-id-3 input.sk-toggleable__control:checked~label.sk-toggleable__label-arrow:before {\n",
              "  content: \"▾\";\n",
              "}\n",
              "\n",
              "/* Pipeline/ColumnTransformer-specific style */\n",
              "\n",
              "#sk-container-id-3 div.sk-label input.sk-toggleable__control:checked~label.sk-toggleable__label {\n",
              "  color: var(--sklearn-color-text);\n",
              "  background-color: var(--sklearn-color-unfitted-level-2);\n",
              "}\n",
              "\n",
              "#sk-container-id-3 div.sk-label.fitted input.sk-toggleable__control:checked~label.sk-toggleable__label {\n",
              "  background-color: var(--sklearn-color-fitted-level-2);\n",
              "}\n",
              "\n",
              "/* Estimator-specific style */\n",
              "\n",
              "/* Colorize estimator box */\n",
              "#sk-container-id-3 div.sk-estimator input.sk-toggleable__control:checked~label.sk-toggleable__label {\n",
              "  /* unfitted */\n",
              "  background-color: var(--sklearn-color-unfitted-level-2);\n",
              "}\n",
              "\n",
              "#sk-container-id-3 div.sk-estimator.fitted input.sk-toggleable__control:checked~label.sk-toggleable__label {\n",
              "  /* fitted */\n",
              "  background-color: var(--sklearn-color-fitted-level-2);\n",
              "}\n",
              "\n",
              "#sk-container-id-3 div.sk-label label.sk-toggleable__label,\n",
              "#sk-container-id-3 div.sk-label label {\n",
              "  /* The background is the default theme color */\n",
              "  color: var(--sklearn-color-text-on-default-background);\n",
              "}\n",
              "\n",
              "/* On hover, darken the color of the background */\n",
              "#sk-container-id-3 div.sk-label:hover label.sk-toggleable__label {\n",
              "  color: var(--sklearn-color-text);\n",
              "  background-color: var(--sklearn-color-unfitted-level-2);\n",
              "}\n",
              "\n",
              "/* Label box, darken color on hover, fitted */\n",
              "#sk-container-id-3 div.sk-label.fitted:hover label.sk-toggleable__label.fitted {\n",
              "  color: var(--sklearn-color-text);\n",
              "  background-color: var(--sklearn-color-fitted-level-2);\n",
              "}\n",
              "\n",
              "/* Estimator label */\n",
              "\n",
              "#sk-container-id-3 div.sk-label label {\n",
              "  font-family: monospace;\n",
              "  font-weight: bold;\n",
              "  display: inline-block;\n",
              "  line-height: 1.2em;\n",
              "}\n",
              "\n",
              "#sk-container-id-3 div.sk-label-container {\n",
              "  text-align: center;\n",
              "}\n",
              "\n",
              "/* Estimator-specific */\n",
              "#sk-container-id-3 div.sk-estimator {\n",
              "  font-family: monospace;\n",
              "  border: 1px dotted var(--sklearn-color-border-box);\n",
              "  border-radius: 0.25em;\n",
              "  box-sizing: border-box;\n",
              "  margin-bottom: 0.5em;\n",
              "  /* unfitted */\n",
              "  background-color: var(--sklearn-color-unfitted-level-0);\n",
              "}\n",
              "\n",
              "#sk-container-id-3 div.sk-estimator.fitted {\n",
              "  /* fitted */\n",
              "  background-color: var(--sklearn-color-fitted-level-0);\n",
              "}\n",
              "\n",
              "/* on hover */\n",
              "#sk-container-id-3 div.sk-estimator:hover {\n",
              "  /* unfitted */\n",
              "  background-color: var(--sklearn-color-unfitted-level-2);\n",
              "}\n",
              "\n",
              "#sk-container-id-3 div.sk-estimator.fitted:hover {\n",
              "  /* fitted */\n",
              "  background-color: var(--sklearn-color-fitted-level-2);\n",
              "}\n",
              "\n",
              "/* Specification for estimator info (e.g. \"i\" and \"?\") */\n",
              "\n",
              "/* Common style for \"i\" and \"?\" */\n",
              "\n",
              ".sk-estimator-doc-link,\n",
              "a:link.sk-estimator-doc-link,\n",
              "a:visited.sk-estimator-doc-link {\n",
              "  float: right;\n",
              "  font-size: smaller;\n",
              "  line-height: 1em;\n",
              "  font-family: monospace;\n",
              "  background-color: var(--sklearn-color-background);\n",
              "  border-radius: 1em;\n",
              "  height: 1em;\n",
              "  width: 1em;\n",
              "  text-decoration: none !important;\n",
              "  margin-left: 1ex;\n",
              "  /* unfitted */\n",
              "  border: var(--sklearn-color-unfitted-level-1) 1pt solid;\n",
              "  color: var(--sklearn-color-unfitted-level-1);\n",
              "}\n",
              "\n",
              ".sk-estimator-doc-link.fitted,\n",
              "a:link.sk-estimator-doc-link.fitted,\n",
              "a:visited.sk-estimator-doc-link.fitted {\n",
              "  /* fitted */\n",
              "  border: var(--sklearn-color-fitted-level-1) 1pt solid;\n",
              "  color: var(--sklearn-color-fitted-level-1);\n",
              "}\n",
              "\n",
              "/* On hover */\n",
              "div.sk-estimator:hover .sk-estimator-doc-link:hover,\n",
              ".sk-estimator-doc-link:hover,\n",
              "div.sk-label-container:hover .sk-estimator-doc-link:hover,\n",
              ".sk-estimator-doc-link:hover {\n",
              "  /* unfitted */\n",
              "  background-color: var(--sklearn-color-unfitted-level-3);\n",
              "  color: var(--sklearn-color-background);\n",
              "  text-decoration: none;\n",
              "}\n",
              "\n",
              "div.sk-estimator.fitted:hover .sk-estimator-doc-link.fitted:hover,\n",
              ".sk-estimator-doc-link.fitted:hover,\n",
              "div.sk-label-container:hover .sk-estimator-doc-link.fitted:hover,\n",
              ".sk-estimator-doc-link.fitted:hover {\n",
              "  /* fitted */\n",
              "  background-color: var(--sklearn-color-fitted-level-3);\n",
              "  color: var(--sklearn-color-background);\n",
              "  text-decoration: none;\n",
              "}\n",
              "\n",
              "/* Span, style for the box shown on hovering the info icon */\n",
              ".sk-estimator-doc-link span {\n",
              "  display: none;\n",
              "  z-index: 9999;\n",
              "  position: relative;\n",
              "  font-weight: normal;\n",
              "  right: .2ex;\n",
              "  padding: .5ex;\n",
              "  margin: .5ex;\n",
              "  width: min-content;\n",
              "  min-width: 20ex;\n",
              "  max-width: 50ex;\n",
              "  color: var(--sklearn-color-text);\n",
              "  box-shadow: 2pt 2pt 4pt #999;\n",
              "  /* unfitted */\n",
              "  background: var(--sklearn-color-unfitted-level-0);\n",
              "  border: .5pt solid var(--sklearn-color-unfitted-level-3);\n",
              "}\n",
              "\n",
              ".sk-estimator-doc-link.fitted span {\n",
              "  /* fitted */\n",
              "  background: var(--sklearn-color-fitted-level-0);\n",
              "  border: var(--sklearn-color-fitted-level-3);\n",
              "}\n",
              "\n",
              ".sk-estimator-doc-link:hover span {\n",
              "  display: block;\n",
              "}\n",
              "\n",
              "/* \"?\"-specific style due to the `<a>` HTML tag */\n",
              "\n",
              "#sk-container-id-3 a.estimator_doc_link {\n",
              "  float: right;\n",
              "  font-size: 1rem;\n",
              "  line-height: 1em;\n",
              "  font-family: monospace;\n",
              "  background-color: var(--sklearn-color-background);\n",
              "  border-radius: 1rem;\n",
              "  height: 1rem;\n",
              "  width: 1rem;\n",
              "  text-decoration: none;\n",
              "  /* unfitted */\n",
              "  color: var(--sklearn-color-unfitted-level-1);\n",
              "  border: var(--sklearn-color-unfitted-level-1) 1pt solid;\n",
              "}\n",
              "\n",
              "#sk-container-id-3 a.estimator_doc_link.fitted {\n",
              "  /* fitted */\n",
              "  border: var(--sklearn-color-fitted-level-1) 1pt solid;\n",
              "  color: var(--sklearn-color-fitted-level-1);\n",
              "}\n",
              "\n",
              "/* On hover */\n",
              "#sk-container-id-3 a.estimator_doc_link:hover {\n",
              "  /* unfitted */\n",
              "  background-color: var(--sklearn-color-unfitted-level-3);\n",
              "  color: var(--sklearn-color-background);\n",
              "  text-decoration: none;\n",
              "}\n",
              "\n",
              "#sk-container-id-3 a.estimator_doc_link.fitted:hover {\n",
              "  /* fitted */\n",
              "  background-color: var(--sklearn-color-fitted-level-3);\n",
              "}\n",
              "</style><div id=\"sk-container-id-3\" class=\"sk-top-container\"><div class=\"sk-text-repr-fallback\"><pre>RandomizedSearchCV(estimator=DecisionTreeClassifier(random_state=42),\n",
              "                   n_iter=100, n_jobs=-1,\n",
              "                   param_distributions={&#x27;max_depth&#x27;: &lt;scipy.stats._distn_infrastructure.rv_discrete_frozen object at 0x7d417b996a10&gt;,\n",
              "                                        &#x27;min_impurity_decrease&#x27;: &lt;scipy.stats._distn_infrastructure.rv_continuous_frozen object at 0x7d41b370f4c0&gt;,\n",
              "                                        &#x27;min_samples_leaf&#x27;: &lt;scipy.stats._distn_infrastructure.rv_discrete_frozen object at 0x7d417b997580&gt;,\n",
              "                                        &#x27;min_samples_split&#x27;: &lt;scipy.stats._distn_infrastructure.rv_discrete_frozen object at 0x7d417d234b80&gt;},\n",
              "                   random_state=42)</pre><b>In a Jupyter environment, please rerun this cell to show the HTML representation or trust the notebook. <br />On GitHub, the HTML representation is unable to render, please try loading this page with nbviewer.org.</b></div><div class=\"sk-container\" hidden><div class=\"sk-item sk-dashed-wrapped\"><div class=\"sk-label-container\"><div class=\"sk-label fitted sk-toggleable\"><input class=\"sk-toggleable__control sk-hidden--visually\" id=\"sk-estimator-id-7\" type=\"checkbox\" ><label for=\"sk-estimator-id-7\" class=\"sk-toggleable__label fitted sk-toggleable__label-arrow fitted\">&nbsp;&nbsp;RandomizedSearchCV<a class=\"sk-estimator-doc-link fitted\" rel=\"noreferrer\" target=\"_blank\" href=\"https://scikit-learn.org/1.5/modules/generated/sklearn.model_selection.RandomizedSearchCV.html\">?<span>Documentation for RandomizedSearchCV</span></a><span class=\"sk-estimator-doc-link fitted\">i<span>Fitted</span></span></label><div class=\"sk-toggleable__content fitted\"><pre>RandomizedSearchCV(estimator=DecisionTreeClassifier(random_state=42),\n",
              "                   n_iter=100, n_jobs=-1,\n",
              "                   param_distributions={&#x27;max_depth&#x27;: &lt;scipy.stats._distn_infrastructure.rv_discrete_frozen object at 0x7d417b996a10&gt;,\n",
              "                                        &#x27;min_impurity_decrease&#x27;: &lt;scipy.stats._distn_infrastructure.rv_continuous_frozen object at 0x7d41b370f4c0&gt;,\n",
              "                                        &#x27;min_samples_leaf&#x27;: &lt;scipy.stats._distn_infrastructure.rv_discrete_frozen object at 0x7d417b997580&gt;,\n",
              "                                        &#x27;min_samples_split&#x27;: &lt;scipy.stats._distn_infrastructure.rv_discrete_frozen object at 0x7d417d234b80&gt;},\n",
              "                   random_state=42)</pre></div> </div></div><div class=\"sk-parallel\"><div class=\"sk-parallel-item\"><div class=\"sk-item\"><div class=\"sk-label-container\"><div class=\"sk-label fitted sk-toggleable\"><input class=\"sk-toggleable__control sk-hidden--visually\" id=\"sk-estimator-id-8\" type=\"checkbox\" ><label for=\"sk-estimator-id-8\" class=\"sk-toggleable__label fitted sk-toggleable__label-arrow fitted\">best_estimator_: DecisionTreeClassifier</label><div class=\"sk-toggleable__content fitted\"><pre>DecisionTreeClassifier(max_depth=39,\n",
              "                       min_impurity_decrease=0.00034102546602601173,\n",
              "                       min_samples_leaf=7, min_samples_split=13,\n",
              "                       random_state=42)</pre></div> </div></div><div class=\"sk-serial\"><div class=\"sk-item\"><div class=\"sk-estimator fitted sk-toggleable\"><input class=\"sk-toggleable__control sk-hidden--visually\" id=\"sk-estimator-id-9\" type=\"checkbox\" ><label for=\"sk-estimator-id-9\" class=\"sk-toggleable__label fitted sk-toggleable__label-arrow fitted\">&nbsp;DecisionTreeClassifier<a class=\"sk-estimator-doc-link fitted\" rel=\"noreferrer\" target=\"_blank\" href=\"https://scikit-learn.org/1.5/modules/generated/sklearn.tree.DecisionTreeClassifier.html\">?<span>Documentation for DecisionTreeClassifier</span></a></label><div class=\"sk-toggleable__content fitted\"><pre>DecisionTreeClassifier(max_depth=39,\n",
              "                       min_impurity_decrease=0.00034102546602601173,\n",
              "                       min_samples_leaf=7, min_samples_split=13,\n",
              "                       random_state=42)</pre></div> </div></div></div></div></div></div></div></div></div>"
            ]
          },
          "metadata": {},
          "execution_count": 27
        }
      ]
    },
    {
      "cell_type": "code",
      "source": [
        "print(gs.best_params_)"
      ],
      "metadata": {
        "colab": {
          "base_uri": "https://localhost:8080/"
        },
        "id": "WiuCb-BWhS-M",
        "outputId": "647acbfe-b670-476a-9198-eb79d8a2a881"
      },
      "execution_count": 28,
      "outputs": [
        {
          "output_type": "stream",
          "name": "stdout",
          "text": [
            "{'max_depth': 39, 'min_impurity_decrease': 0.00034102546602601173, 'min_samples_leaf': 7, 'min_samples_split': 13}\n"
          ]
        }
      ]
    },
    {
      "cell_type": "code",
      "source": [
        "# 최고의 교차 검증 점수 확인\n",
        "print(np.max(gs.cv_results_['mean_test_score']))"
      ],
      "metadata": {
        "colab": {
          "base_uri": "https://localhost:8080/"
        },
        "id": "dDm9UM_VhYJG",
        "outputId": "4e394912-dc1d-4b8c-e6e1-385f95e425f8"
      },
      "execution_count": 29,
      "outputs": [
        {
          "output_type": "stream",
          "name": "stdout",
          "text": [
            "0.8695428296438884\n"
          ]
        }
      ]
    },
    {
      "cell_type": "code",
      "source": [
        "dt = gs.best_estimator_\n",
        "print(dt.score(test_input, test_target)) # 테스트 세트 점수는 검증 세트에 대한 점수보다 조금 작은 것이 일반적"
      ],
      "metadata": {
        "colab": {
          "base_uri": "https://localhost:8080/"
        },
        "id": "KK7ougczhleu",
        "outputId": "01181949-42bb-4947-cc50-a4224b771b94"
      },
      "execution_count": 30,
      "outputs": [
        {
          "output_type": "stream",
          "name": "stdout",
          "text": [
            "0.86\n"
          ]
        }
      ]
    },
    {
      "cell_type": "markdown",
      "source": [
        "## 05-3. 트리의 앙상블"
      ],
      "metadata": {
        "id": "Agy6s0b8WNop"
      }
    },
    {
      "cell_type": "markdown",
      "source": [
        "구조화된 데이터(정형 데이터)를 다루는 데 가장 뛰어난 성과를 내는 알고리즘 = 앙상블 학습 \\\n",
        "더 좋은 예측 결과를 만들기 위해 여러 개의 모델을 훈련하는 머신러닝 알고리즘"
      ],
      "metadata": {
        "id": "Tf22K52lWU6f"
      }
    },
    {
      "cell_type": "markdown",
      "source": [
        "비정형 데이터 → 데이터베이스나 엑셀로 표현하기 어려운 것들\n",
        "- 텍스트나 사진을 데이터베이스에 저장할 수는 없나요?\\\n",
        "저장할 수도 있습니다. 다만 여기에서는 보편적인 사례를 설명한 것입니다. 데이터베이스 중에는 구조적이지 않은 데이터를 저장하는 데 편리하도록 발전한 것이 많습니다. 대표적으로 NoSQL 데이터베이스는 엑셀이나 CSV에 담기 어려운 텍스트나 JSON 데이터를 저장하는 데 용이합니다."
      ],
      "metadata": {
        "id": "Qx8XiNKaWfrw"
      }
    },
    {
      "cell_type": "markdown",
      "source": [
        "### 랜덤 포레스트\n",
        "\n",
        ": 대표적인 결정 트리 기반의 앙상블 학습 방법\\\n",
        "안정적인 성능 덕분에 널리 사용되고 있음\\\n",
        "부트스트랩 샘플을 사용하고 랜덤하게 일부 특성을 선택하여 트리를 만드는 것이 특징임"
      ],
      "metadata": {
        "id": "OuAXC6exXdm0"
      }
    },
    {
      "cell_type": "markdown",
      "source": [
        "부트스트랩 : 데이터 세트에서 중복을 허용하여 데이터를 샘플링하는 방식\n",
        "\n",
        "\n",
        "부트스트랩 샘플은 통계학에서 모집단으로부터 여러 번 표본을 무작위로 반복 추출해 얻은 샘플을 의미합니다. 복원 추출을 사용하는 이유는, 부트스트랩 방법이 원본 데이터의 분포를 최대한 반영하면서도 여러 개의 샘플을 만들어 모집단의 통계량을 추정하려는 목적을 가지고 있기 때문입니다. 이를 통해 작은 표본으로부터도 모집단의 특성(예: 평균, 분산, 신뢰 구간 등)을 더 정확하게 추정할 수 있습니다.\n",
        "\n",
        "- 부트스트랩 샘플은 훈련 세트의 크기와 같게 만듬"
      ],
      "metadata": {
        "id": "cPOjfQQnY7ZZ"
      }
    },
    {
      "cell_type": "markdown",
      "source": [
        "각 노드를 분할할 때 전체 특성 중에서 일부 특성을 무작위로 고른 다음 이 중에서 최선의 분할을 찾는다. 분류 모델인 RandomForestClassifier는 기본적으로 전체 특성 개수의 제곱근만큼의 특성을 선택한다. (4개의 특성이 있으면 각 노드마다 2개 랜덤 선택)(회귀모델에서는 전체 특성 사용)\n",
        "\n",
        "- 회귀 문제에서는 우리가 연속적인 숫자 값을 예측하고자 합니다. 랜덤 포레스트의 각 트리는 여러 변수의 일부만을 사용해 독립적으로 이 집의 가격을 예측할 것입니다. 각 트리는 조금씩 다른 예측값을 내놓겠지만, 전체적으로 비슷한 범위에서 예측할 가능성이 높습니다.\\\n",
        "다양한 예측값을 평균하면 극단적인 예측을 줄이고 보다 안정적인 중간값을 얻을 수 있습니다. **각 트리의 예측값 평균**은 랜덤 포레스트 회귀에서의 최종 예측값으로 사용되며, **여러 개의 트리가 협력하여 하나의 예측값**을 만듭니다.\n",
        "\n",
        "- 분류 문제에서는 어떤 클래스에 속할 확률을 예측하는 것이 목표입니다. 각 트리는 각 클래스에 대한 확률을 독립적으로 계산할 수 있습니다.\\\n",
        " **각 트리의 클래스별 확률을 평균**하면 모든 트리의 의견을 고려해 최종적인 확률을 얻을 수 있습니다. 이 평균 확률을 기반으로 가장 높은 확률을 가진 클래스를 최종 예측으로 선택합니다.\n",
        "\n"
      ],
      "metadata": {
        "id": "Y6qPXitwiRUs"
      }
    },
    {
      "cell_type": "code",
      "source": [
        "import numpy as np\n",
        "import pandas as pd\n",
        "from sklearn.model_selection import train_test_split\n",
        "\n",
        "wine = pd.read_csv('https://bit.ly/wine_csv_data')\n",
        "\n",
        "data = wine[['alcohol', 'sugar', 'pH']].to_numpy()\n",
        "target = wine['class'].to_numpy()\n",
        "\n",
        "train_input, test_input, train_target, test_target = train_test_split(data, target, test_size=0.2, random_state=42)"
      ],
      "metadata": {
        "id": "9pWTZPBtWRMS"
      },
      "execution_count": 31,
      "outputs": []
    },
    {
      "cell_type": "code",
      "source": [
        "from sklearn.model_selection import cross_validate\n",
        "from sklearn.ensemble import RandomForestClassifier\n",
        "\n",
        "rf = RandomForestClassifier(n_jobs=-1, random_state=42) # 트리의 기본값 100개, n_jobs=-1: 가능한 모든 CPU 코어 사용 (최대 병렬 처리)\n",
        "scores = cross_validate(rf, train_input, train_target, return_train_score=True, n_jobs=-1)\n",
        "\n",
        "print(np.mean(scores['train_score']), np.mean(scores['test_score']))"
      ],
      "metadata": {
        "id": "72YKhFiMaZcB",
        "colab": {
          "base_uri": "https://localhost:8080/"
        },
        "outputId": "84858fa8-4597-4b91-c8ad-5683670d03c1"
      },
      "execution_count": 32,
      "outputs": [
        {
          "output_type": "stream",
          "name": "stdout",
          "text": [
            "0.9973541965122431 0.8905151032797809\n"
          ]
        }
      ]
    },
    {
      "cell_type": "code",
      "source": [
        "rf.fit(train_input, train_target)\n",
        "print(rf.feature_importances_) # 피처 중요도 =각 결정 트리의 피처 중요도를 평균하여 계산"
      ],
      "metadata": {
        "id": "-90k0Z33abIw",
        "colab": {
          "base_uri": "https://localhost:8080/"
        },
        "outputId": "08f0e1bf-a889-4ca8-c25e-7eee099c153f"
      },
      "execution_count": 33,
      "outputs": [
        {
          "output_type": "stream",
          "name": "stdout",
          "text": [
            "[0.23167441 0.50039841 0.26792718]\n"
          ]
        }
      ]
    },
    {
      "cell_type": "markdown",
      "source": [
        "OOB 샘플 : 부트스트랩 샘플에 포함되지 않고 남는 샘플 > 검증 세트의 역할을 함"
      ],
      "metadata": {
        "id": "XrB1TzxfkbIM"
      }
    },
    {
      "cell_type": "code",
      "source": [
        "rf = RandomForestClassifier(oob_score=True, n_jobs=-1, random_state=42)\n",
        "\n",
        "rf.fit(train_input, train_target)\n",
        "print(rf.oob_score_)"
      ],
      "metadata": {
        "id": "tALTqCuDacfG",
        "colab": {
          "base_uri": "https://localhost:8080/"
        },
        "outputId": "5835f56a-0c66-4a2a-deae-40ad05574d4e"
      },
      "execution_count": 34,
      "outputs": [
        {
          "output_type": "stream",
          "name": "stdout",
          "text": [
            "0.8934000384837406\n"
          ]
        }
      ]
    },
    {
      "cell_type": "markdown",
      "metadata": {
        "id": "KdrVoeQZRU14"
      },
      "source": [
        "### 엑스트라트리\n",
        "\n",
        "랜덤 포레스트와 비슷하게 결정 트리를 사용하여 앙상블 모델을 만들지만 부트스트랩 샘플을 사용하지 않는다.\\\n",
        "대신 전체 특성 중 일부 특성을 랜덤하게 선택하여 노드를 분할해 과대적합을 감소시킨다.\\\n",
        "`splitter='random'`으로 지정\n",
        "\n",
        "보통 엑스트라 트리가 무작위성이 좀 더 크기 때문에 랜덤 포레스트보다 더 많은 결정 트리를 훈련해야 한다.\n",
        "결정 트리는 최적의 분할을 찾는 데 시간을 많이 소모한다. 특히 고려해야 할 특성의 개수가 많을 때 더 그렇다.\n",
        "엑스트라 트리는 각 노드에서 특성을 랜덤하게 선택할 뿐만 아니라, 분할 지점도 무작위로 설정하여 나눈다. 이 방식은 노드마다 최적의 분할 지점을 찾는 데 시간을 소모하지 않기 때문에 랜덤 포레스트보다 훨씬 빠르게 트리를 구성할 수 있다."
      ]
    },
    {
      "cell_type": "code",
      "execution_count": 35,
      "metadata": {
        "colab": {
          "base_uri": "https://localhost:8080/"
        },
        "id": "noMLdywdOGrE",
        "outputId": "f306f3e2-b6b8-4451-fe5f-e0a731608315"
      },
      "outputs": [
        {
          "output_type": "stream",
          "name": "stdout",
          "text": [
            "0.9974503966084433 0.8887848893166506\n"
          ]
        }
      ],
      "source": [
        "from sklearn.ensemble import ExtraTreesClassifier\n",
        "\n",
        "et = ExtraTreesClassifier(n_jobs=-1, random_state=42)\n",
        "scores = cross_validate(et, train_input, train_target, return_train_score=True, n_jobs=-1)\n",
        "\n",
        "print(np.mean(scores['train_score']), np.mean(scores['test_score']))"
      ]
    },
    {
      "cell_type": "code",
      "execution_count": 36,
      "metadata": {
        "colab": {
          "base_uri": "https://localhost:8080/"
        },
        "id": "HnB0_mBqfcXL",
        "outputId": "7a246afe-dc18-413f-821a-ee2bd9be91ce"
      },
      "outputs": [
        {
          "output_type": "stream",
          "name": "stdout",
          "text": [
            "[0.20183568 0.52242907 0.27573525]\n"
          ]
        }
      ],
      "source": [
        "et.fit(train_input, train_target)\n",
        "print(et.feature_importances_)"
      ]
    },
    {
      "cell_type": "markdown",
      "metadata": {
        "id": "csKxnaxeRX8s"
      },
      "source": [
        "### 그레이디언트 부스팅\n",
        "\n",
        ": 랜덤 포레스트나 엑스트라 트리와 달리 여러 개의 **약한 학습기(결정 트리)를 순차적으로 학습**시키면서 손실 함수를 최소화하는 앙상블 방법\n",
        "→ 경사 하강법을 사용하여 트리를 앙상블에 추가함\n",
        "\n",
        "훈련 속도가 조금 느리지만 더 좋은 성능을 기대할 수 있다."
      ]
    },
    {
      "cell_type": "markdown",
      "source": [
        "그레디언트 부스팅에서 깊이가 3인 트리 100개를 사용한다고 하면:\\\n",
        "각 트리는 깊이 3까지만 성장하며, 이는 개별 트리가 학습할 수 있는 패턴의 복잡도를 제한합니다.\n",
        "100개의 트리는 각 트리가 순차적으로 오류를 보완해 나가는 과정에서 사용되며, 트리가 많아질수록 성능이 높아질 수 있지만 과대적합의 위험이 있습니다.\n",
        "각 트리는 여전히 깊이 3으로 제한되며, 각 트리의 깊이를 더해서 \"총 깊이\"로 계산하지 않습니다. 대신, 전체 **모델의 복잡도**는 **트리의 개수**와 **개별 트리의 깊이에 의해 결정**됩니다.\\\n",
        "*모든 트리의 최대 깊이(max_depth)는 동일하게 설정"
      ],
      "metadata": {
        "id": "zpVEzgblomNz"
      }
    },
    {
      "cell_type": "code",
      "execution_count": 37,
      "metadata": {
        "colab": {
          "base_uri": "https://localhost:8080/"
        },
        "id": "_IlNEFkaNsoG",
        "outputId": "e96b3c0f-1012-43a5-ceb0-c3b551aa0868"
      },
      "outputs": [
        {
          "output_type": "stream",
          "name": "stdout",
          "text": [
            "0.8881086892152563 0.8720430147331015\n"
          ]
        }
      ],
      "source": [
        "from sklearn.ensemble import GradientBoostingClassifier\n",
        "\n",
        "gb = GradientBoostingClassifier(random_state=42)\n",
        "scores = cross_validate(gb, train_input, train_target, return_train_score=True, n_jobs=-1)\n",
        "\n",
        "print(np.mean(scores['train_score']), np.mean(scores['test_score']))"
      ]
    },
    {
      "cell_type": "code",
      "execution_count": 38,
      "metadata": {
        "colab": {
          "base_uri": "https://localhost:8080/"
        },
        "id": "pNpeS8EWpeEi",
        "outputId": "c1eed5d8-d2b4-40e9-dfa9-f4fd1c9c962f"
      },
      "outputs": [
        {
          "output_type": "stream",
          "name": "stdout",
          "text": [
            "0.9464595437171814 0.8780082549788999\n"
          ]
        }
      ],
      "source": [
        "gb = GradientBoostingClassifier(n_estimators=500, learning_rate=0.2, random_state=42)\n",
        "scores = cross_validate(gb, train_input, train_target, return_train_score=True, n_jobs=-1)\n",
        "\n",
        "print(np.mean(scores['train_score']), np.mean(scores['test_score']))"
      ]
    },
    {
      "cell_type": "code",
      "execution_count": 39,
      "metadata": {
        "colab": {
          "base_uri": "https://localhost:8080/"
        },
        "id": "qD6iWVsGqCAE",
        "outputId": "16658548-8651-4a25-cccc-785f7fe21f9f"
      },
      "outputs": [
        {
          "output_type": "stream",
          "name": "stdout",
          "text": [
            "[0.15887763 0.6799705  0.16115187]\n"
          ]
        }
      ],
      "source": [
        "gb.fit(train_input, train_target)\n",
        "print(gb.feature_importances_)"
      ]
    },
    {
      "cell_type": "markdown",
      "source": [
        "매개변수 subsample\\\n",
        ": **그레디언트 부스팅(Gradient Boosting)**에서 각 트리가 학습할 때 사용할 데이터의 샘플 비율을 지정하는 매개변수\n",
        "\n",
        "subsample의 작동 방식\\\n",
        "subsample=1.0 (기본값): 각 트리를 학습할 때 전체 훈련 데이터를 사용합니다. 이 경우, 부스팅 방식이기 때문에 이전 모델의 잔여 오차에 대해 학습하면서 오차를 점진적으로 줄입니다.\\\n",
        "subsample < 1.0: 각 트리를 학습할 때 훈련 데이터의 일부만 샘플링하여 사용합니다. 예를 들어, subsample=0.8이면, 전체 데이터의 80%만 무작위로 샘플링하여 각 트리를 학습합니다.\n",
        "\n",
        "- 과적합 방지: subsample 값을 1보다 작게 설정하면, 각 트리가 전체 데이터를 보지 않고 일부만 사용하여 학습하므로 무작위성이 증가하여 과적합을 방지하는 효과가 있습니다.\n",
        "- 모델 일반화 성능 향상: 무작위 샘플링은 모델이 특정 데이터에 과적합되지 않도록 도와주며, 모델의 일반화 성능을 높이는 데 기여할 수 있습니다.\n",
        "- 학습 속도 개선: 전체 데이터를 사용하지 않기 때문에, subsample 값을 낮추면 모델의 학습 속도가 빨라질 수 있습니다."
      ],
      "metadata": {
        "id": "EIocfkOtpCU7"
      }
    },
    {
      "cell_type": "markdown",
      "metadata": {
        "id": "BthW_II9RbLa"
      },
      "source": [
        "### 히스토그램 기반 부스팅\n",
        "\n",
        "그레디언트 부스팅의 속도를 개선한 것이 히스토그램 기반 그레디언트 부스팅이며 안정적인 결과와 높은 성능으로 매우 인기가 높다.\n",
        "\n",
        "입력 특성을 256개의 구간을 나눠, 노드를 분할할 때 최적의 분할을 매우 빠르게 찾을 수 있다."
      ]
    },
    {
      "cell_type": "code",
      "execution_count": 40,
      "metadata": {
        "colab": {
          "base_uri": "https://localhost:8080/"
        },
        "id": "_3Ct_NNWQbdA",
        "outputId": "65c0e135-e7dd-4eac-db16-85b60f7641af"
      },
      "outputs": [
        {
          "output_type": "stream",
          "name": "stdout",
          "text": [
            "0.9321723946453317 0.8801241948619236\n"
          ]
        }
      ],
      "source": [
        "from sklearn.ensemble import HistGradientBoostingClassifier\n",
        "\n",
        "hgb = HistGradientBoostingClassifier(random_state=42)\n",
        "scores = cross_validate(hgb, train_input, train_target, return_train_score=True, n_jobs=-1)\n",
        "\n",
        "print(np.mean(scores['train_score']), np.mean(scores['test_score'])) # 교차 검증에서 여러 폴드의 평균 점수"
      ]
    },
    {
      "cell_type": "code",
      "execution_count": 41,
      "metadata": {
        "colab": {
          "base_uri": "https://localhost:8080/"
        },
        "id": "TvlB0GMTS3hn",
        "outputId": "0c678d9b-e8ce-441c-8b2b-a6ca48033c48"
      },
      "outputs": [
        {
          "output_type": "stream",
          "name": "stdout",
          "text": [
            "[0.08876275 0.23438522 0.08027708]\n"
          ]
        }
      ],
      "source": [
        "from sklearn.inspection import permutation_importance\n",
        "\n",
        "hgb.fit(train_input, train_target)\n",
        "result = permutation_importance(hgb, train_input, train_target, n_repeats=10,\n",
        "                                random_state=42, n_jobs=-1)\n",
        "print(result.importances_mean) # 평균 손실 변화량, 클수록 해당 특성이 더 중요한 것 → 합이 1이 아님"
      ]
    },
    {
      "cell_type": "code",
      "execution_count": 42,
      "metadata": {
        "colab": {
          "base_uri": "https://localhost:8080/"
        },
        "id": "S8FfxInn-xBQ",
        "outputId": "9ffc7e88-f957-473b-aade-b51e0163ea50"
      },
      "outputs": [
        {
          "output_type": "stream",
          "name": "stdout",
          "text": [
            "[0.05969231 0.20238462 0.049     ]\n"
          ]
        }
      ],
      "source": [
        "result = permutation_importance(hgb, test_input, test_target, n_repeats=10,\n",
        "                                random_state=42, n_jobs=-1)\n",
        "print(result.importances_mean)"
      ]
    },
    {
      "cell_type": "code",
      "execution_count": 43,
      "metadata": {
        "colab": {
          "base_uri": "https://localhost:8080/"
        },
        "id": "pqplZjh0j2nw",
        "outputId": "15bcd379-2d8f-4b2b-e4e6-a7f2c9fc5230"
      },
      "outputs": [
        {
          "output_type": "execute_result",
          "data": {
            "text/plain": [
              "0.8723076923076923"
            ]
          },
          "metadata": {},
          "execution_count": 43
        }
      ],
      "source": [
        "hgb.score(test_input, test_target) # 위의 test 스코어랑 왜 다르지? 최종 모델이 테스트 세트에서 평가된 점수"
      ]
    },
    {
      "cell_type": "markdown",
      "metadata": {
        "id": "8fz_FrezBezR"
      },
      "source": [
        "#### XGBoost\n",
        "\n",
        "XGBoost 는 매우 효율적이고 유연하며 휴대성이 뛰어나도록 설계된 최적화된 분산 그래디언트 부스팅 라이브러리입니다. 그래디언트 부스팅 프레임워크에서 머신 러닝 알고리즘을 구현합니다 . XGBoost는 빠르고 정확한 방식으로 많은 데이터 과학 문제를 해결하는 병렬 트리 부스팅(GBDT, GBM이라고도 함)을 제공합니다. 동일한 코드가 주요 분산 환경(Hadoop, SGE, MPI)에서 실행되며 수십억 개의 예제를 넘어서는 문제를 해결할 수 있습니다.\n",
        "\n",
        "트리 구조: XGBoost는 수평 깊이 우선 탐색 방식으로 트리를 생성합니다. 이는 각 노드가 충분히 깊어진 후에 다음 노드로 이동하며 트리를 완성하는 방식입니다.\n",
        "\n",
        "tree_method 매개변수를 'hist'로 지정하면 히스토그램 기반 그래디언트 부스팅을 사용할 수 있습니다."
      ]
    },
    {
      "cell_type": "code",
      "execution_count": 44,
      "metadata": {
        "colab": {
          "base_uri": "https://localhost:8080/"
        },
        "id": "YBYLvOiV6rga",
        "outputId": "42f1d938-e552-481c-a4ca-01d8a1c83a8d"
      },
      "outputs": [
        {
          "output_type": "stream",
          "name": "stdout",
          "text": [
            "0.9558403027491312 0.8782000074035686\n"
          ]
        }
      ],
      "source": [
        "from xgboost import XGBClassifier\n",
        "\n",
        "xgb = XGBClassifier(tree_method='hist', random_state=42)\n",
        "scores = cross_validate(xgb, train_input, train_target, return_train_score=True, n_jobs=-1)\n",
        "\n",
        "print(np.mean(scores['train_score']), np.mean(scores['test_score']))"
      ]
    },
    {
      "cell_type": "markdown",
      "metadata": {
        "id": "zl6nh6DOBd-B"
      },
      "source": [
        "#### LightGBM\n",
        "\n",
        "LightGBM 은 트리 기반 학습 알고리즘을 사용하는 그래디언트 부스팅 프레임워크입니다. 분산되고 효율적이며 다음과 같은 장점이 있습니다.\n",
        "\n",
        "- 더 빠른 훈련 속도와 더 높은 효율성\n",
        "- 메모리 사용량이 적습니다.\n",
        "- 더 나은 정확성\n",
        "- 병렬, 분산, GPU 학습을 지원합니다.\n",
        "- 대규모 데이터를 처리할 수 있습니다.\n",
        "\n",
        "트리 구조: LightGBM은 **리프 중심 트리 성장 방식(Leaf-wise Growth)**을 사용합니다.\n",
        "\n",
        "리프 노드(leaf node) = 트리의 가장 아래쪽에 위치한, 더 이상 자식 노드가 없는 노드들\\\n",
        "리프 중심 =\t가장 손실이 큰 리프 노드를 선택하여 그 리프만을 확장"
      ]
    },
    {
      "cell_type": "code",
      "execution_count": 45,
      "metadata": {
        "colab": {
          "base_uri": "https://localhost:8080/"
        },
        "id": "maihlDMP7lmY",
        "outputId": "8cbabaf1-f9a3-413e-ea45-305173a54c68"
      },
      "outputs": [
        {
          "output_type": "stream",
          "name": "stderr",
          "text": [
            "/usr/local/lib/python3.10/dist-packages/dask/dataframe/__init__.py:42: FutureWarning: \n",
            "Dask dataframe query planning is disabled because dask-expr is not installed.\n",
            "\n",
            "You can install it with `pip install dask[dataframe]` or `conda install dask`.\n",
            "This will raise in a future version.\n",
            "\n",
            "  warnings.warn(msg, FutureWarning)\n"
          ]
        },
        {
          "output_type": "stream",
          "name": "stdout",
          "text": [
            "0.935828414851749 0.8801251203079884\n"
          ]
        }
      ],
      "source": [
        "from lightgbm import LGBMClassifier\n",
        "\n",
        "lgb = LGBMClassifier(random_state=42)\n",
        "scores = cross_validate(lgb, train_input, train_target, return_train_score=True, n_jobs=-1)\n",
        "\n",
        "print(np.mean(scores['train_score']), np.mean(scores['test_score']))"
      ]
    },
    {
      "cell_type": "markdown",
      "source": [
        "![image.png](data:image/png;base64,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)"
      ],
      "metadata": {
        "id": "8Hc8doMWc7R_"
      }
    },
    {
      "cell_type": "markdown",
      "source": [
        "### 정리"
      ],
      "metadata": {
        "id": "obuErsP_qS6m"
      }
    },
    {
      "cell_type": "markdown",
      "source": [
        "이 알고리즘들은 모두 **결정 트리를 기반**으로 하는 **앙상블 학습 방법**이지만, 각기 다른 방식으로 모델을 구성하고 학습을 최적화합니다.\n",
        "\n",
        "1. 랜덤 포레스트(Random Forest)\\\n",
        "방법: 배깅(Bagging) 방식을 사용하여 여러 개의 결정 트리를 병렬로 학습시킨 후, 개별 트리의 예측 결과를 투표(분류) 또는 평균(회귀)하여 최종 예측을 만듭니다.\\\n",
        "특징:\n",
        "무작위성을 위해 각 트리에 사용하는 데이터 샘플을 중복 추출합니다.\n",
        "각 트리의 노드 분할에서 사용할 특성의 일부만 무작위로 선택하여 최적의 분할을 찾습니다.\\\n",
        "장점: 병렬 학습이 가능하여 빠르게 학습할 수 있으며, 트리 간의 독립성을 통해 과적합을 방지하는 데 효과적입니다.\n",
        "\n",
        "2. 엑스트라 트리\\\n",
        "방법: 랜덤 포레스트와 유사한 배깅 방식이지만, 무작위성을 더욱 강조합니다.\\\n",
        "특징:\n",
        "각 트리의 노드 분할에서 사용할 특성을 무작위로 선택할 뿐만 아니라, 분할 지점도 무작위로 설정합니다.\n",
        "전체 데이터를 샘플링 없이 사용하므로, 트리 개수를 늘려도 속도가 빠릅니다.\\\n",
        "장점: 더욱 간단하고 빠르게 트리를 생성하지만, 개별 트리 성능은 랜덤 포레스트보다 약할 수 있습니다. 대신 트리 수를 늘려 일반화 성능을 높입니다.\n",
        "\n",
        "3. 그레디언트 부스팅(Gradient Boosting)\\\n",
        "방법: 부스팅 방식을 사용하여 이전 트리의 오차를 줄이는 방향으로 순차적으로 트리를 학습합니다.\\\n",
        "특징:\n",
        "오차를 점진적으로 줄여나가기 위해 잔여 오차를 다음 트리가 학습하도록 합니다.\n",
        "무작위성을 추가하기 위해 subsample 매개변수를 통해 데이터의 일부만 사용할 수도 있습니다.\n",
        "모델이 점진적으로 개선되므로, 학습률(learning rate)과 트리 수(n_estimators)를 잘 조정해야 합니다.\\\n",
        "장점: 과소적합을 줄이면서 모델의 성능을 향상할 수 있지만, 순차적 학습이 필요하므로 병렬화가 어렵고, 학습 시간이 길어질 수 있습니다.\n",
        "\n",
        "4. 히스토그램 기반 그레디언트 부스팅\\\n",
        "방법: 그레디언트 부스팅의 변형으로, 연속형 특성을 히스토그램 형태로 구간화하여 학습 속도를 높입니다.\\\n",
        "특징:\n",
        "연속형 특성을 히스토그램으로 변환한 후, 각 구간에 대해 최적 분할을 찾으므로 메모리 사용량과 연산 속도가 개선됩니다.\n",
        "HistGradientBoostingClassifier 및 HistGradientBoostingRegressor와 같은 Scikit-Learn 구현 또는 LightGBM, XGBoost에도 유사한 방법이 사용됩니다.\\\n",
        "장점: 대규모 데이터셋에서 빠르고 효율적입니다. 특히 LightGBM과 XGBoost의 학습 속도에 큰 기여를 합니다.\n",
        "\n",
        "5. XGBoost (Extreme Gradient Boosting)\\\n",
        "방법: 그레디언트 부스팅의 개선된 형태로, 히스토그램 기반 학습과 다양한 최적화 기법을 포함하여 빠르고 효과적인 부스팅 모델을 제공합니다.\\\n",
        "특징:\n",
        "정규화 옵션을 추가하여 과적합을 방지합니다.\n",
        "병렬 처리를 통해 학습 속도를 개선합니다.\n",
        "자체적으로 결측값 처리가 가능하고, 조기 종료(early stopping) 기능으로 학습을 자동으로 조절할 수 있습니다.\\\n",
        "장점: 성능이 우수하며, 대규모 데이터셋과 높은 차원의 특성에 대해 빠르게 학습할 수 있습니다.\n",
        "\n",
        "6. LightGBM (Light Gradient Boosting Machine)\\\n",
        "방법: Microsoft가 개발한 그레디언트 부스팅 알고리즘으로, 히스토그램 기반 학습과 리프 중심의 트리 성장 방식을 사용하여 매우 빠르게 학습합니다.\\\n",
        "특징:\n",
        "리프 중심 성장 방식은 손실이 큰 리프 노드를 우선적으로 분할하므로, 트리 성장이 불균형하지만 성능이 높습니다.\n",
        "데이터 샘플링과 조기 종료 기능을 통해 과적합을 방지할 수 있습니다.\\\n",
        "장점: 대규모 데이터와 고차원 특성에 대해 학습이 빠르고, 메모리 효율이 뛰어나며, 모델 성능도 높습니다.\n",
        "\n",
        "**랜덤 포레스트**와 **엑스트라 트리**는 배깅 방식으로 독립적으로 트리를 생성하여 병렬 학습이 가능하고, 과적합을 방지하기 위해 무작위성을 추가합니다.\n",
        "\n",
        "**그레디언트 부스팅, XGBoost, LightGBM**은 부스팅 방식으로 이전 트리의 오차를 점진적으로 줄여나가며 학습하여 성능을 개선합니다.\n",
        "→ XGBoost와 LightGBM은 그레디언트 부스팅을 개선한 버전으로, 학습 속도와 메모리 사용 효율을 크게 개선한 고성능 부스팅 기법입니다.\n",
        "\n",
        "**히스토그램 기반 그레디언트 부스팅**은 연속형 특성을 히스토그램으로 구간화하여 연산 속도와 메모리 사용을 최적화한 방식이며, 대규모 데이터에서 부스팅 기법을 효율적으로 구현합니다.\\\n",
        "→ 대규모 데이터나 고차원 데이터에서는 XGBoost와 LightGBM이 자주 사용되고, 상대적으로 작은 데이터셋에서는 랜덤 포레스트가 과적합을 방지하면서도 안정적인 성능을 보여줍니다."
      ],
      "metadata": {
        "id": "-zI82jiLqU-Q"
      }
    }
  ]
}